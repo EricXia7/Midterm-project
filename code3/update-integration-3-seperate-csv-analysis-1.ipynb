{
 "cells": [
  {
   "cell_type": "code",
   "execution_count": 1,
   "metadata": {},
   "outputs": [],
   "source": [
    "import pandas as pd"
   ]
  },
  {
   "cell_type": "code",
   "execution_count": 2,
   "metadata": {},
   "outputs": [],
   "source": [
    "import os"
   ]
  },
  {
   "cell_type": "code",
   "execution_count": 3,
   "metadata": {},
   "outputs": [],
   "source": [
    "import matplotlib.pyplot as plt"
   ]
  },
  {
   "cell_type": "code",
   "execution_count": 4,
   "metadata": {},
   "outputs": [],
   "source": [
    "import seaborn"
   ]
  },
  {
   "cell_type": "code",
   "execution_count": 5,
   "metadata": {},
   "outputs": [],
   "source": [
    "import numpy as np"
   ]
  },
  {
   "cell_type": "code",
   "execution_count": 6,
   "metadata": {},
   "outputs": [],
   "source": [
    "import statsmodels.api as sm"
   ]
  },
  {
   "cell_type": "code",
   "execution_count": 7,
   "metadata": {},
   "outputs": [],
   "source": [
    "PATH = os.path.abspath('')"
   ]
  },
  {
   "cell_type": "code",
   "execution_count": 8,
   "metadata": {},
   "outputs": [
    {
     "data": {
      "text/plain": [
       "'D:\\\\1Econ\\\\Python\\\\Midterm-project\\\\code3'"
      ]
     },
     "execution_count": 8,
     "metadata": {},
     "output_type": "execute_result"
    }
   ],
   "source": [
    "PATH"
   ]
  },
  {
   "cell_type": "code",
   "execution_count": 9,
   "metadata": {},
   "outputs": [],
   "source": [
    "csv_dir=os.path.dirname(PATH)"
   ]
  },
  {
   "cell_type": "code",
   "execution_count": 10,
   "metadata": {},
   "outputs": [
    {
     "data": {
      "text/plain": [
       "'D:\\\\1Econ\\\\Python\\\\Midterm-project'"
      ]
     },
     "execution_count": 10,
     "metadata": {},
     "output_type": "execute_result"
    }
   ],
   "source": [
    "csv_dir"
   ]
  },
  {
   "cell_type": "code",
   "execution_count": 11,
   "metadata": {},
   "outputs": [],
   "source": [
    "csv_PATH=csv_dir+'/dataset'"
   ]
  },
  {
   "cell_type": "code",
   "execution_count": 12,
   "metadata": {},
   "outputs": [
    {
     "data": {
      "text/plain": [
       "'D:\\\\1Econ\\\\Python\\\\Midterm-project/dataset'"
      ]
     },
     "execution_count": 12,
     "metadata": {},
     "output_type": "execute_result"
    }
   ],
   "source": [
    "csv_PATH"
   ]
  },
  {
   "cell_type": "code",
   "execution_count": 13,
   "metadata": {},
   "outputs": [],
   "source": [
    "filenames = ['20231.csv', '202211.csv', '202212.csv']"
   ]
  },
  {
   "cell_type": "code",
   "execution_count": 14,
   "metadata": {},
   "outputs": [],
   "source": [
    "files = []"
   ]
  },
  {
   "cell_type": "code",
   "execution_count": 15,
   "metadata": {},
   "outputs": [],
   "source": [
    "for filename in filenames:\n",
    "    files.append(os.path.join(csv_PATH, filename))"
   ]
  },
  {
   "cell_type": "code",
   "execution_count": 16,
   "metadata": {},
   "outputs": [
    {
     "data": {
      "text/plain": [
       "['D:\\\\1Econ\\\\Python\\\\Midterm-project/dataset\\\\20231.csv',\n",
       " 'D:\\\\1Econ\\\\Python\\\\Midterm-project/dataset\\\\202211.csv',\n",
       " 'D:\\\\1Econ\\\\Python\\\\Midterm-project/dataset\\\\202212.csv']"
      ]
     },
     "execution_count": 16,
     "metadata": {},
     "output_type": "execute_result"
    }
   ],
   "source": [
    "files"
   ]
  },
  {
   "cell_type": "code",
   "execution_count": 17,
   "metadata": {},
   "outputs": [],
   "source": [
    "df_names = []"
   ]
  },
  {
   "cell_type": "code",
   "execution_count": 18,
   "metadata": {},
   "outputs": [],
   "source": [
    "for i in range(1,len(files)+1):\n",
    "    df_names.append('df' + str(i))"
   ]
  },
  {
   "cell_type": "code",
   "execution_count": 19,
   "metadata": {},
   "outputs": [
    {
     "data": {
      "text/plain": [
       "['df1', 'df2', 'df3']"
      ]
     },
     "execution_count": 19,
     "metadata": {},
     "output_type": "execute_result"
    }
   ],
   "source": [
    "df_names"
   ]
  },
  {
   "cell_type": "code",
   "execution_count": 20,
   "metadata": {},
   "outputs": [],
   "source": [
    "d = {}"
   ]
  },
  {
   "cell_type": "code",
   "execution_count": 21,
   "metadata": {},
   "outputs": [],
   "source": [
    "for i in range(len(df_names)):\n",
    "    name = df_names[i]\n",
    "    tmp = pd.read_csv(files[i])\n",
    "    tmp['Time'] = filenames[i]\n",
    "    d[name] = tmp"
   ]
  },
  {
   "cell_type": "code",
   "execution_count": 22,
   "metadata": {},
   "outputs": [
    {
     "data": {
      "text/plain": [
       "{'df1':                                                   name   price  score   dis  \\\n",
       " 0                          Hyatt House Austin/Downtown  1195.0    8.0   0.4   \n",
       " 1          Courtyard Austin Downtown/Convention Center  1414.0    8.2   0.2   \n",
       " 2                  Hilton Garden Inn Cedar Park Austin   673.0    9.0  14.5   \n",
       " 3                  Sentral East Austin at 1614 E Sixth  1000.0    9.1   1.1   \n",
       " 4                  Sentral East Austin at 1630 E Sixth   840.0    8.1   1.1   \n",
       " ..                                                 ...     ...    ...   ...   \n",
       " 149  Vivant - Efficiency 2BR King Bed Suites Next t...  1733.0   10.0   1.9   \n",
       " 150           AC Hotel by Marriott Austin Hill Country  1459.0    9.0   7.7   \n",
       " 151          Cozy-2 Bedroom 2 Bath- Near Lakeline Mall   908.0   10.0  15.2   \n",
       " 152                                  Village Motor Inn  1564.0    4.6   2.6   \n",
       " 153  Residence Inn by Marriott Austin - University ...  1615.0    8.4   3.5   \n",
       " \n",
       "           Time  \n",
       " 0    20231.csv  \n",
       " 1    20231.csv  \n",
       " 2    20231.csv  \n",
       " 3    20231.csv  \n",
       " 4    20231.csv  \n",
       " ..         ...  \n",
       " 149  20231.csv  \n",
       " 150  20231.csv  \n",
       " 151  20231.csv  \n",
       " 152  20231.csv  \n",
       " 153  20231.csv  \n",
       " \n",
       " [154 rows x 5 columns],\n",
       " 'df2':                                                   name   price  score   dis  \\\n",
       " 0    La Quinta Inn by Wyndham Austin Capitol / Down...   682.0    5.8   0.4   \n",
       " 1          Courtyard Austin Downtown/Convention Center   974.0    8.2   0.2   \n",
       " 2          DoubleTree by Hilton Austin-University Area   915.0    8.0   1.1   \n",
       " 3                                      Fairmont Austin  1072.0    8.9   0.4   \n",
       " 4       Staybridge Suites Austin Airport, an IHG Hotel   798.0    7.7   4.5   \n",
       " ..                                                 ...     ...    ...   ...   \n",
       " 174                         Residence Inn Austin South  1049.0    8.2   4.1   \n",
       " 175  Downtown, Convention Center, Capitol, Zilker P...  2375.0    8.3   1.9   \n",
       " 176                                Natiivo Austin VIII  1377.0   10.0   0.8   \n",
       " 177  Residence Inn by Marriott Austin Parmer/Tech R...   794.0    8.1  10.4   \n",
       " 178                          Four Seasons Hotel Austin  3484.0    8.5   0.3   \n",
       " \n",
       "            Time  \n",
       " 0    202211.csv  \n",
       " 1    202211.csv  \n",
       " 2    202211.csv  \n",
       " 3    202211.csv  \n",
       " 4    202211.csv  \n",
       " ..          ...  \n",
       " 174  202211.csv  \n",
       " 175  202211.csv  \n",
       " 176  202211.csv  \n",
       " 177  202211.csv  \n",
       " 178  202211.csv  \n",
       " \n",
       " [179 rows x 5 columns],\n",
       " 'df3':                                                   name   price  score   dis  \\\n",
       " 0                                      Fairmont Austin  1016.0    8.9   0.4   \n",
       " 1                             Austin Marriott Downtown  1219.0    8.5   0.3   \n",
       " 2                          Hyatt House Austin/Downtown   619.0    8.0   0.4   \n",
       " 3                                      The LINE Austin  1244.0    8.2   0.3   \n",
       " 4                  Hilton Garden Inn Cedar Park Austin   607.0    9.0  14.5   \n",
       " ..                                                 ...     ...    ...   ...   \n",
       " 181                     Omni Barton Creek Resort & Spa  2274.0    8.5   7.1   \n",
       " 182  Residence Inn by Marriott Austin Northwest/The...   900.0    8.7   9.4   \n",
       " 183               Super 8 by Wyndham Austin South I-35   546.0    4.9   3.7   \n",
       " 184  Extended Stay America Suites - Austin - Northw...   532.0    5.8  14.2   \n",
       " 185      Extended Stay America Suites - Austin - Metro   636.0    6.3   4.6   \n",
       " \n",
       "            Time  \n",
       " 0    202212.csv  \n",
       " 1    202212.csv  \n",
       " 2    202212.csv  \n",
       " 3    202212.csv  \n",
       " 4    202212.csv  \n",
       " ..          ...  \n",
       " 181  202212.csv  \n",
       " 182  202212.csv  \n",
       " 183  202212.csv  \n",
       " 184  202212.csv  \n",
       " 185  202212.csv  \n",
       " \n",
       " [186 rows x 5 columns]}"
      ]
     },
     "execution_count": 22,
     "metadata": {},
     "output_type": "execute_result"
    }
   ],
   "source": [
    "d"
   ]
  },
  {
   "cell_type": "code",
   "execution_count": 23,
   "metadata": {},
   "outputs": [],
   "source": [
    "df = pd.concat(d.values(), ignore_index=True)"
   ]
  },
  {
   "cell_type": "code",
   "execution_count": 24,
   "metadata": {},
   "outputs": [
    {
     "data": {
      "text/html": [
       "<div>\n",
       "<style scoped>\n",
       "    .dataframe tbody tr th:only-of-type {\n",
       "        vertical-align: middle;\n",
       "    }\n",
       "\n",
       "    .dataframe tbody tr th {\n",
       "        vertical-align: top;\n",
       "    }\n",
       "\n",
       "    .dataframe thead th {\n",
       "        text-align: right;\n",
       "    }\n",
       "</style>\n",
       "<table border=\"1\" class=\"dataframe\">\n",
       "  <thead>\n",
       "    <tr style=\"text-align: right;\">\n",
       "      <th></th>\n",
       "      <th>name</th>\n",
       "      <th>price</th>\n",
       "      <th>score</th>\n",
       "      <th>dis</th>\n",
       "      <th>Time</th>\n",
       "    </tr>\n",
       "  </thead>\n",
       "  <tbody>\n",
       "    <tr>\n",
       "      <th>0</th>\n",
       "      <td>Hyatt House Austin/Downtown</td>\n",
       "      <td>1195.0</td>\n",
       "      <td>8.0</td>\n",
       "      <td>0.4</td>\n",
       "      <td>20231.csv</td>\n",
       "    </tr>\n",
       "    <tr>\n",
       "      <th>1</th>\n",
       "      <td>Courtyard Austin Downtown/Convention Center</td>\n",
       "      <td>1414.0</td>\n",
       "      <td>8.2</td>\n",
       "      <td>0.2</td>\n",
       "      <td>20231.csv</td>\n",
       "    </tr>\n",
       "    <tr>\n",
       "      <th>2</th>\n",
       "      <td>Hilton Garden Inn Cedar Park Austin</td>\n",
       "      <td>673.0</td>\n",
       "      <td>9.0</td>\n",
       "      <td>14.5</td>\n",
       "      <td>20231.csv</td>\n",
       "    </tr>\n",
       "    <tr>\n",
       "      <th>3</th>\n",
       "      <td>Sentral East Austin at 1614 E Sixth</td>\n",
       "      <td>1000.0</td>\n",
       "      <td>9.1</td>\n",
       "      <td>1.1</td>\n",
       "      <td>20231.csv</td>\n",
       "    </tr>\n",
       "    <tr>\n",
       "      <th>4</th>\n",
       "      <td>Sentral East Austin at 1630 E Sixth</td>\n",
       "      <td>840.0</td>\n",
       "      <td>8.1</td>\n",
       "      <td>1.1</td>\n",
       "      <td>20231.csv</td>\n",
       "    </tr>\n",
       "    <tr>\n",
       "      <th>...</th>\n",
       "      <td>...</td>\n",
       "      <td>...</td>\n",
       "      <td>...</td>\n",
       "      <td>...</td>\n",
       "      <td>...</td>\n",
       "    </tr>\n",
       "    <tr>\n",
       "      <th>514</th>\n",
       "      <td>Omni Barton Creek Resort &amp; Spa</td>\n",
       "      <td>2274.0</td>\n",
       "      <td>8.5</td>\n",
       "      <td>7.1</td>\n",
       "      <td>202212.csv</td>\n",
       "    </tr>\n",
       "    <tr>\n",
       "      <th>515</th>\n",
       "      <td>Residence Inn by Marriott Austin Northwest/The...</td>\n",
       "      <td>900.0</td>\n",
       "      <td>8.7</td>\n",
       "      <td>9.4</td>\n",
       "      <td>202212.csv</td>\n",
       "    </tr>\n",
       "    <tr>\n",
       "      <th>516</th>\n",
       "      <td>Super 8 by Wyndham Austin South I-35</td>\n",
       "      <td>546.0</td>\n",
       "      <td>4.9</td>\n",
       "      <td>3.7</td>\n",
       "      <td>202212.csv</td>\n",
       "    </tr>\n",
       "    <tr>\n",
       "      <th>517</th>\n",
       "      <td>Extended Stay America Suites - Austin - Northw...</td>\n",
       "      <td>532.0</td>\n",
       "      <td>5.8</td>\n",
       "      <td>14.2</td>\n",
       "      <td>202212.csv</td>\n",
       "    </tr>\n",
       "    <tr>\n",
       "      <th>518</th>\n",
       "      <td>Extended Stay America Suites - Austin - Metro</td>\n",
       "      <td>636.0</td>\n",
       "      <td>6.3</td>\n",
       "      <td>4.6</td>\n",
       "      <td>202212.csv</td>\n",
       "    </tr>\n",
       "  </tbody>\n",
       "</table>\n",
       "<p>519 rows × 5 columns</p>\n",
       "</div>"
      ],
      "text/plain": [
       "                                                  name   price  score   dis  \\\n",
       "0                          Hyatt House Austin/Downtown  1195.0    8.0   0.4   \n",
       "1          Courtyard Austin Downtown/Convention Center  1414.0    8.2   0.2   \n",
       "2                  Hilton Garden Inn Cedar Park Austin   673.0    9.0  14.5   \n",
       "3                  Sentral East Austin at 1614 E Sixth  1000.0    9.1   1.1   \n",
       "4                  Sentral East Austin at 1630 E Sixth   840.0    8.1   1.1   \n",
       "..                                                 ...     ...    ...   ...   \n",
       "514                     Omni Barton Creek Resort & Spa  2274.0    8.5   7.1   \n",
       "515  Residence Inn by Marriott Austin Northwest/The...   900.0    8.7   9.4   \n",
       "516               Super 8 by Wyndham Austin South I-35   546.0    4.9   3.7   \n",
       "517  Extended Stay America Suites - Austin - Northw...   532.0    5.8  14.2   \n",
       "518      Extended Stay America Suites - Austin - Metro   636.0    6.3   4.6   \n",
       "\n",
       "           Time  \n",
       "0     20231.csv  \n",
       "1     20231.csv  \n",
       "2     20231.csv  \n",
       "3     20231.csv  \n",
       "4     20231.csv  \n",
       "..          ...  \n",
       "514  202212.csv  \n",
       "515  202212.csv  \n",
       "516  202212.csv  \n",
       "517  202212.csv  \n",
       "518  202212.csv  \n",
       "\n",
       "[519 rows x 5 columns]"
      ]
     },
     "execution_count": 24,
     "metadata": {},
     "output_type": "execute_result"
    }
   ],
   "source": [
    "df"
   ]
  },
  {
   "cell_type": "code",
   "execution_count": null,
   "metadata": {},
   "outputs": [],
   "source": []
  },
  {
   "cell_type": "code",
   "execution_count": null,
   "metadata": {},
   "outputs": [],
   "source": []
  }
 ],
 "metadata": {
  "kernelspec": {
   "display_name": "Python 3 (ipykernel)",
   "language": "python",
   "name": "python3"
  },
  "language_info": {
   "codemirror_mode": {
    "name": "ipython",
    "version": 3
   },
   "file_extension": ".py",
   "mimetype": "text/x-python",
   "name": "python",
   "nbconvert_exporter": "python",
   "pygments_lexer": "ipython3",
   "version": "3.10.6"
  }
 },
 "nbformat": 4,
 "nbformat_minor": 4
}
