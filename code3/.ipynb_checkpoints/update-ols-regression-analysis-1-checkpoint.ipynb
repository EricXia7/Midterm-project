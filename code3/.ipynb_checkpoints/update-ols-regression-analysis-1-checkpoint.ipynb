{
 "cells": [
  {
   "cell_type": "code",
   "execution_count": 1,
   "metadata": {},
   "outputs": [],
   "source": [
    "import pandas as pd"
   ]
  },
  {
   "cell_type": "code",
   "execution_count": 2,
   "metadata": {},
   "outputs": [],
   "source": [
    "import os"
   ]
  },
  {
   "cell_type": "code",
   "execution_count": 3,
   "metadata": {},
   "outputs": [],
   "source": [
    "import matplotlib.pyplot as plt"
   ]
  },
  {
   "cell_type": "code",
   "execution_count": 4,
   "metadata": {},
   "outputs": [],
   "source": [
    "import seaborn"
   ]
  },
  {
   "cell_type": "code",
   "execution_count": 5,
   "metadata": {},
   "outputs": [],
   "source": [
    "import numpy as np"
   ]
  },
  {
   "cell_type": "code",
   "execution_count": 6,
   "metadata": {},
   "outputs": [],
   "source": [
    "import statsmodels.api as sm"
   ]
  },
  {
   "cell_type": "code",
   "execution_count": 7,
   "metadata": {},
   "outputs": [],
   "source": [
    "PATH = os.path.abspath('')"
   ]
  },
  {
   "cell_type": "code",
   "execution_count": 8,
   "metadata": {},
   "outputs": [
    {
     "data": {
      "text/plain": [
       "'D:\\\\1Econ\\\\Python\\\\Midterm-project\\\\code3'"
      ]
     },
     "execution_count": 8,
     "metadata": {},
     "output_type": "execute_result"
    }
   ],
   "source": [
    "PATH"
   ]
  },
  {
   "cell_type": "code",
   "execution_count": 9,
   "metadata": {},
   "outputs": [],
   "source": [
    "csv_dir=os.path.dirname(PATH)"
   ]
  },
  {
   "cell_type": "code",
   "execution_count": 10,
   "metadata": {},
   "outputs": [
    {
     "data": {
      "text/plain": [
       "'D:\\\\1Econ\\\\Python\\\\Midterm-project'"
      ]
     },
     "execution_count": 10,
     "metadata": {},
     "output_type": "execute_result"
    }
   ],
   "source": [
    "csv_dir"
   ]
  },
  {
   "cell_type": "code",
   "execution_count": 11,
   "metadata": {},
   "outputs": [],
   "source": [
    "csv_PATH=csv_dir+'/dataset'"
   ]
  },
  {
   "cell_type": "code",
   "execution_count": 12,
   "metadata": {},
   "outputs": [
    {
     "data": {
      "text/plain": [
       "'D:\\\\1Econ\\\\Python\\\\Midterm-project/dataset'"
      ]
     },
     "execution_count": 12,
     "metadata": {},
     "output_type": "execute_result"
    }
   ],
   "source": [
    "csv_PATH"
   ]
  },
  {
   "cell_type": "code",
   "execution_count": 13,
   "metadata": {},
   "outputs": [],
   "source": [
    "filenames = ['20231.csv', '202211.csv', '202212.csv']"
   ]
  },
  {
   "cell_type": "code",
   "execution_count": 14,
   "metadata": {},
   "outputs": [],
   "source": [
    "files = []"
   ]
  },
  {
   "cell_type": "code",
   "execution_count": 15,
   "metadata": {},
   "outputs": [],
   "source": [
    "for filename in filenames:\n",
    "    files.append(os.path.join(csv_PATH, filename))"
   ]
  },
  {
   "cell_type": "code",
   "execution_count": 16,
   "metadata": {},
   "outputs": [
    {
     "data": {
      "text/plain": [
       "['D:\\\\1Econ\\\\Python\\\\Midterm-project/dataset\\\\20231.csv',\n",
       " 'D:\\\\1Econ\\\\Python\\\\Midterm-project/dataset\\\\202211.csv',\n",
       " 'D:\\\\1Econ\\\\Python\\\\Midterm-project/dataset\\\\202212.csv']"
      ]
     },
     "execution_count": 16,
     "metadata": {},
     "output_type": "execute_result"
    }
   ],
   "source": [
    "files"
   ]
  },
  {
   "cell_type": "code",
   "execution_count": 17,
   "metadata": {},
   "outputs": [],
   "source": [
    "df_names = []"
   ]
  },
  {
   "cell_type": "code",
   "execution_count": 18,
   "metadata": {},
   "outputs": [],
   "source": [
    "for i in range(1,len(files)+1):\n",
    "    df_names.append('df' + str(i))"
   ]
  },
  {
   "cell_type": "code",
   "execution_count": 19,
   "metadata": {},
   "outputs": [
    {
     "data": {
      "text/plain": [
       "['df1', 'df2', 'df3']"
      ]
     },
     "execution_count": 19,
     "metadata": {},
     "output_type": "execute_result"
    }
   ],
   "source": [
    "df_names"
   ]
  },
  {
   "cell_type": "code",
   "execution_count": 20,
   "metadata": {},
   "outputs": [],
   "source": [
    "d = {}"
   ]
  },
  {
   "cell_type": "code",
   "execution_count": 21,
   "metadata": {},
   "outputs": [],
   "source": [
    "for i in range(len(df_names)):\n",
    "    name = df_names[i]\n",
    "    tmp = pd.read_csv(files[i])\n",
    "    tmp['Time'] = filenames[i]\n",
    "    d[name] = tmp"
   ]
  },
  {
   "cell_type": "code",
   "execution_count": 22,
   "metadata": {},
   "outputs": [
    {
     "data": {
      "text/plain": [
       "{'df1':                                                   name   price  score   dis  \\\n",
       " 0                          Hyatt House Austin/Downtown  1195.0    8.0   0.4   \n",
       " 1          Courtyard Austin Downtown/Convention Center  1414.0    8.2   0.2   \n",
       " 2                  Hilton Garden Inn Cedar Park Austin   673.0    9.0  14.5   \n",
       " 3                  Sentral East Austin at 1614 E Sixth  1000.0    9.1   1.1   \n",
       " 4                  Sentral East Austin at 1630 E Sixth   840.0    8.1   1.1   \n",
       " ..                                                 ...     ...    ...   ...   \n",
       " 149  Vivant - Efficiency 2BR King Bed Suites Next t...  1733.0   10.0   1.9   \n",
       " 150           AC Hotel by Marriott Austin Hill Country  1459.0    9.0   7.7   \n",
       " 151          Cozy-2 Bedroom 2 Bath- Near Lakeline Mall   908.0   10.0  15.2   \n",
       " 152                                  Village Motor Inn  1564.0    4.6   2.6   \n",
       " 153  Residence Inn by Marriott Austin - University ...  1615.0    8.4   3.5   \n",
       " \n",
       "           Time  \n",
       " 0    20231.csv  \n",
       " 1    20231.csv  \n",
       " 2    20231.csv  \n",
       " 3    20231.csv  \n",
       " 4    20231.csv  \n",
       " ..         ...  \n",
       " 149  20231.csv  \n",
       " 150  20231.csv  \n",
       " 151  20231.csv  \n",
       " 152  20231.csv  \n",
       " 153  20231.csv  \n",
       " \n",
       " [154 rows x 5 columns],\n",
       " 'df2':                                                   name   price  score   dis  \\\n",
       " 0    La Quinta Inn by Wyndham Austin Capitol / Down...   682.0    5.8   0.4   \n",
       " 1          Courtyard Austin Downtown/Convention Center   974.0    8.2   0.2   \n",
       " 2          DoubleTree by Hilton Austin-University Area   915.0    8.0   1.1   \n",
       " 3                                      Fairmont Austin  1072.0    8.9   0.4   \n",
       " 4       Staybridge Suites Austin Airport, an IHG Hotel   798.0    7.7   4.5   \n",
       " ..                                                 ...     ...    ...   ...   \n",
       " 174                         Residence Inn Austin South  1049.0    8.2   4.1   \n",
       " 175  Downtown, Convention Center, Capitol, Zilker P...  2375.0    8.3   1.9   \n",
       " 176                                Natiivo Austin VIII  1377.0   10.0   0.8   \n",
       " 177  Residence Inn by Marriott Austin Parmer/Tech R...   794.0    8.1  10.4   \n",
       " 178                          Four Seasons Hotel Austin  3484.0    8.5   0.3   \n",
       " \n",
       "            Time  \n",
       " 0    202211.csv  \n",
       " 1    202211.csv  \n",
       " 2    202211.csv  \n",
       " 3    202211.csv  \n",
       " 4    202211.csv  \n",
       " ..          ...  \n",
       " 174  202211.csv  \n",
       " 175  202211.csv  \n",
       " 176  202211.csv  \n",
       " 177  202211.csv  \n",
       " 178  202211.csv  \n",
       " \n",
       " [179 rows x 5 columns],\n",
       " 'df3':                                                   name   price  score   dis  \\\n",
       " 0                                      Fairmont Austin  1016.0    8.9   0.4   \n",
       " 1                             Austin Marriott Downtown  1219.0    8.5   0.3   \n",
       " 2                          Hyatt House Austin/Downtown   619.0    8.0   0.4   \n",
       " 3                                      The LINE Austin  1244.0    8.2   0.3   \n",
       " 4                  Hilton Garden Inn Cedar Park Austin   607.0    9.0  14.5   \n",
       " ..                                                 ...     ...    ...   ...   \n",
       " 181                     Omni Barton Creek Resort & Spa  2274.0    8.5   7.1   \n",
       " 182  Residence Inn by Marriott Austin Northwest/The...   900.0    8.7   9.4   \n",
       " 183               Super 8 by Wyndham Austin South I-35   546.0    4.9   3.7   \n",
       " 184  Extended Stay America Suites - Austin - Northw...   532.0    5.8  14.2   \n",
       " 185      Extended Stay America Suites - Austin - Metro   636.0    6.3   4.6   \n",
       " \n",
       "            Time  \n",
       " 0    202212.csv  \n",
       " 1    202212.csv  \n",
       " 2    202212.csv  \n",
       " 3    202212.csv  \n",
       " 4    202212.csv  \n",
       " ..          ...  \n",
       " 181  202212.csv  \n",
       " 182  202212.csv  \n",
       " 183  202212.csv  \n",
       " 184  202212.csv  \n",
       " 185  202212.csv  \n",
       " \n",
       " [186 rows x 5 columns]}"
      ]
     },
     "execution_count": 22,
     "metadata": {},
     "output_type": "execute_result"
    }
   ],
   "source": [
    "d"
   ]
  },
  {
   "cell_type": "code",
   "execution_count": 23,
   "metadata": {},
   "outputs": [],
   "source": [
    "df = pd.concat(d.values(), ignore_index=True)"
   ]
  },
  {
   "cell_type": "code",
   "execution_count": 24,
   "metadata": {},
   "outputs": [
    {
     "data": {
      "text/html": [
       "<div>\n",
       "<style scoped>\n",
       "    .dataframe tbody tr th:only-of-type {\n",
       "        vertical-align: middle;\n",
       "    }\n",
       "\n",
       "    .dataframe tbody tr th {\n",
       "        vertical-align: top;\n",
       "    }\n",
       "\n",
       "    .dataframe thead th {\n",
       "        text-align: right;\n",
       "    }\n",
       "</style>\n",
       "<table border=\"1\" class=\"dataframe\">\n",
       "  <thead>\n",
       "    <tr style=\"text-align: right;\">\n",
       "      <th></th>\n",
       "      <th>name</th>\n",
       "      <th>price</th>\n",
       "      <th>score</th>\n",
       "      <th>dis</th>\n",
       "      <th>Time</th>\n",
       "    </tr>\n",
       "  </thead>\n",
       "  <tbody>\n",
       "    <tr>\n",
       "      <th>0</th>\n",
       "      <td>Hyatt House Austin/Downtown</td>\n",
       "      <td>1195.0</td>\n",
       "      <td>8.0</td>\n",
       "      <td>0.4</td>\n",
       "      <td>20231.csv</td>\n",
       "    </tr>\n",
       "    <tr>\n",
       "      <th>1</th>\n",
       "      <td>Courtyard Austin Downtown/Convention Center</td>\n",
       "      <td>1414.0</td>\n",
       "      <td>8.2</td>\n",
       "      <td>0.2</td>\n",
       "      <td>20231.csv</td>\n",
       "    </tr>\n",
       "    <tr>\n",
       "      <th>2</th>\n",
       "      <td>Hilton Garden Inn Cedar Park Austin</td>\n",
       "      <td>673.0</td>\n",
       "      <td>9.0</td>\n",
       "      <td>14.5</td>\n",
       "      <td>20231.csv</td>\n",
       "    </tr>\n",
       "    <tr>\n",
       "      <th>3</th>\n",
       "      <td>Sentral East Austin at 1614 E Sixth</td>\n",
       "      <td>1000.0</td>\n",
       "      <td>9.1</td>\n",
       "      <td>1.1</td>\n",
       "      <td>20231.csv</td>\n",
       "    </tr>\n",
       "    <tr>\n",
       "      <th>4</th>\n",
       "      <td>Sentral East Austin at 1630 E Sixth</td>\n",
       "      <td>840.0</td>\n",
       "      <td>8.1</td>\n",
       "      <td>1.1</td>\n",
       "      <td>20231.csv</td>\n",
       "    </tr>\n",
       "    <tr>\n",
       "      <th>...</th>\n",
       "      <td>...</td>\n",
       "      <td>...</td>\n",
       "      <td>...</td>\n",
       "      <td>...</td>\n",
       "      <td>...</td>\n",
       "    </tr>\n",
       "    <tr>\n",
       "      <th>514</th>\n",
       "      <td>Omni Barton Creek Resort &amp; Spa</td>\n",
       "      <td>2274.0</td>\n",
       "      <td>8.5</td>\n",
       "      <td>7.1</td>\n",
       "      <td>202212.csv</td>\n",
       "    </tr>\n",
       "    <tr>\n",
       "      <th>515</th>\n",
       "      <td>Residence Inn by Marriott Austin Northwest/The...</td>\n",
       "      <td>900.0</td>\n",
       "      <td>8.7</td>\n",
       "      <td>9.4</td>\n",
       "      <td>202212.csv</td>\n",
       "    </tr>\n",
       "    <tr>\n",
       "      <th>516</th>\n",
       "      <td>Super 8 by Wyndham Austin South I-35</td>\n",
       "      <td>546.0</td>\n",
       "      <td>4.9</td>\n",
       "      <td>3.7</td>\n",
       "      <td>202212.csv</td>\n",
       "    </tr>\n",
       "    <tr>\n",
       "      <th>517</th>\n",
       "      <td>Extended Stay America Suites - Austin - Northw...</td>\n",
       "      <td>532.0</td>\n",
       "      <td>5.8</td>\n",
       "      <td>14.2</td>\n",
       "      <td>202212.csv</td>\n",
       "    </tr>\n",
       "    <tr>\n",
       "      <th>518</th>\n",
       "      <td>Extended Stay America Suites - Austin - Metro</td>\n",
       "      <td>636.0</td>\n",
       "      <td>6.3</td>\n",
       "      <td>4.6</td>\n",
       "      <td>202212.csv</td>\n",
       "    </tr>\n",
       "  </tbody>\n",
       "</table>\n",
       "<p>519 rows × 5 columns</p>\n",
       "</div>"
      ],
      "text/plain": [
       "                                                  name   price  score   dis  \\\n",
       "0                          Hyatt House Austin/Downtown  1195.0    8.0   0.4   \n",
       "1          Courtyard Austin Downtown/Convention Center  1414.0    8.2   0.2   \n",
       "2                  Hilton Garden Inn Cedar Park Austin   673.0    9.0  14.5   \n",
       "3                  Sentral East Austin at 1614 E Sixth  1000.0    9.1   1.1   \n",
       "4                  Sentral East Austin at 1630 E Sixth   840.0    8.1   1.1   \n",
       "..                                                 ...     ...    ...   ...   \n",
       "514                     Omni Barton Creek Resort & Spa  2274.0    8.5   7.1   \n",
       "515  Residence Inn by Marriott Austin Northwest/The...   900.0    8.7   9.4   \n",
       "516               Super 8 by Wyndham Austin South I-35   546.0    4.9   3.7   \n",
       "517  Extended Stay America Suites - Austin - Northw...   532.0    5.8  14.2   \n",
       "518      Extended Stay America Suites - Austin - Metro   636.0    6.3   4.6   \n",
       "\n",
       "           Time  \n",
       "0     20231.csv  \n",
       "1     20231.csv  \n",
       "2     20231.csv  \n",
       "3     20231.csv  \n",
       "4     20231.csv  \n",
       "..          ...  \n",
       "514  202212.csv  \n",
       "515  202212.csv  \n",
       "516  202212.csv  \n",
       "517  202212.csv  \n",
       "518  202212.csv  \n",
       "\n",
       "[519 rows x 5 columns]"
      ]
     },
     "execution_count": 24,
     "metadata": {},
     "output_type": "execute_result"
    }
   ],
   "source": [
    "df"
   ]
  },
  {
   "cell_type": "code",
   "execution_count": 25,
   "metadata": {},
   "outputs": [
    {
     "data": {
      "text/plain": [
       "Best Western Plus Executive Residency Austin        3\n",
       "Kimpton Hotel Van Zandt, an IHG Hotel               3\n",
       "Courtyard Austin-University Area                    3\n",
       "Austin Southpark Hotel                              3\n",
       "Candlewood Suites - Austin Airport, an IHG Hotel    3\n",
       "                                                   ..\n",
       "Home2 Suites By Hilton Austin Airport               1\n",
       "Residence Inn by Marriott Austin Airport            1\n",
       "Cozy-2 Bedroom 2 Bath- Near Lakeline Mall           1\n",
       "Sonder at East 5th                                  1\n",
       "Locale Austin - South Congress                      1\n",
       "Name: name, Length: 238, dtype: int64"
      ]
     },
     "execution_count": 25,
     "metadata": {},
     "output_type": "execute_result"
    }
   ],
   "source": [
    "df['name'].value_counts()"
   ]
  },
  {
   "cell_type": "code",
   "execution_count": 26,
   "metadata": {},
   "outputs": [],
   "source": [
    "index = df['name'].value_counts() == 3"
   ]
  },
  {
   "cell_type": "code",
   "execution_count": 27,
   "metadata": {},
   "outputs": [
    {
     "data": {
      "text/plain": [
       "87"
      ]
     },
     "execution_count": 27,
     "metadata": {},
     "output_type": "execute_result"
    }
   ],
   "source": [
    "sum(index)"
   ]
  },
  {
   "cell_type": "code",
   "execution_count": 28,
   "metadata": {},
   "outputs": [],
   "source": [
    "df['hotel_count'] = df.groupby('name')['name'].transform('count')"
   ]
  },
  {
   "cell_type": "code",
   "execution_count": 29,
   "metadata": {},
   "outputs": [
    {
     "data": {
      "text/html": [
       "<div>\n",
       "<style scoped>\n",
       "    .dataframe tbody tr th:only-of-type {\n",
       "        vertical-align: middle;\n",
       "    }\n",
       "\n",
       "    .dataframe tbody tr th {\n",
       "        vertical-align: top;\n",
       "    }\n",
       "\n",
       "    .dataframe thead th {\n",
       "        text-align: right;\n",
       "    }\n",
       "</style>\n",
       "<table border=\"1\" class=\"dataframe\">\n",
       "  <thead>\n",
       "    <tr style=\"text-align: right;\">\n",
       "      <th></th>\n",
       "      <th>name</th>\n",
       "      <th>price</th>\n",
       "      <th>score</th>\n",
       "      <th>dis</th>\n",
       "      <th>Time</th>\n",
       "      <th>hotel_count</th>\n",
       "    </tr>\n",
       "  </thead>\n",
       "  <tbody>\n",
       "    <tr>\n",
       "      <th>0</th>\n",
       "      <td>Hyatt House Austin/Downtown</td>\n",
       "      <td>1195.0</td>\n",
       "      <td>8.0</td>\n",
       "      <td>0.4</td>\n",
       "      <td>20231.csv</td>\n",
       "      <td>2</td>\n",
       "    </tr>\n",
       "    <tr>\n",
       "      <th>1</th>\n",
       "      <td>Courtyard Austin Downtown/Convention Center</td>\n",
       "      <td>1414.0</td>\n",
       "      <td>8.2</td>\n",
       "      <td>0.2</td>\n",
       "      <td>20231.csv</td>\n",
       "      <td>2</td>\n",
       "    </tr>\n",
       "    <tr>\n",
       "      <th>2</th>\n",
       "      <td>Hilton Garden Inn Cedar Park Austin</td>\n",
       "      <td>673.0</td>\n",
       "      <td>9.0</td>\n",
       "      <td>14.5</td>\n",
       "      <td>20231.csv</td>\n",
       "      <td>3</td>\n",
       "    </tr>\n",
       "    <tr>\n",
       "      <th>3</th>\n",
       "      <td>Sentral East Austin at 1614 E Sixth</td>\n",
       "      <td>1000.0</td>\n",
       "      <td>9.1</td>\n",
       "      <td>1.1</td>\n",
       "      <td>20231.csv</td>\n",
       "      <td>2</td>\n",
       "    </tr>\n",
       "    <tr>\n",
       "      <th>4</th>\n",
       "      <td>Sentral East Austin at 1630 E Sixth</td>\n",
       "      <td>840.0</td>\n",
       "      <td>8.1</td>\n",
       "      <td>1.1</td>\n",
       "      <td>20231.csv</td>\n",
       "      <td>3</td>\n",
       "    </tr>\n",
       "    <tr>\n",
       "      <th>...</th>\n",
       "      <td>...</td>\n",
       "      <td>...</td>\n",
       "      <td>...</td>\n",
       "      <td>...</td>\n",
       "      <td>...</td>\n",
       "      <td>...</td>\n",
       "    </tr>\n",
       "    <tr>\n",
       "      <th>514</th>\n",
       "      <td>Omni Barton Creek Resort &amp; Spa</td>\n",
       "      <td>2274.0</td>\n",
       "      <td>8.5</td>\n",
       "      <td>7.1</td>\n",
       "      <td>202212.csv</td>\n",
       "      <td>3</td>\n",
       "    </tr>\n",
       "    <tr>\n",
       "      <th>515</th>\n",
       "      <td>Residence Inn by Marriott Austin Northwest/The...</td>\n",
       "      <td>900.0</td>\n",
       "      <td>8.7</td>\n",
       "      <td>9.4</td>\n",
       "      <td>202212.csv</td>\n",
       "      <td>2</td>\n",
       "    </tr>\n",
       "    <tr>\n",
       "      <th>516</th>\n",
       "      <td>Super 8 by Wyndham Austin South I-35</td>\n",
       "      <td>546.0</td>\n",
       "      <td>4.9</td>\n",
       "      <td>3.7</td>\n",
       "      <td>202212.csv</td>\n",
       "      <td>2</td>\n",
       "    </tr>\n",
       "    <tr>\n",
       "      <th>517</th>\n",
       "      <td>Extended Stay America Suites - Austin - Northw...</td>\n",
       "      <td>532.0</td>\n",
       "      <td>5.8</td>\n",
       "      <td>14.2</td>\n",
       "      <td>202212.csv</td>\n",
       "      <td>3</td>\n",
       "    </tr>\n",
       "    <tr>\n",
       "      <th>518</th>\n",
       "      <td>Extended Stay America Suites - Austin - Metro</td>\n",
       "      <td>636.0</td>\n",
       "      <td>6.3</td>\n",
       "      <td>4.6</td>\n",
       "      <td>202212.csv</td>\n",
       "      <td>3</td>\n",
       "    </tr>\n",
       "  </tbody>\n",
       "</table>\n",
       "<p>519 rows × 6 columns</p>\n",
       "</div>"
      ],
      "text/plain": [
       "                                                  name   price  score   dis  \\\n",
       "0                          Hyatt House Austin/Downtown  1195.0    8.0   0.4   \n",
       "1          Courtyard Austin Downtown/Convention Center  1414.0    8.2   0.2   \n",
       "2                  Hilton Garden Inn Cedar Park Austin   673.0    9.0  14.5   \n",
       "3                  Sentral East Austin at 1614 E Sixth  1000.0    9.1   1.1   \n",
       "4                  Sentral East Austin at 1630 E Sixth   840.0    8.1   1.1   \n",
       "..                                                 ...     ...    ...   ...   \n",
       "514                     Omni Barton Creek Resort & Spa  2274.0    8.5   7.1   \n",
       "515  Residence Inn by Marriott Austin Northwest/The...   900.0    8.7   9.4   \n",
       "516               Super 8 by Wyndham Austin South I-35   546.0    4.9   3.7   \n",
       "517  Extended Stay America Suites - Austin - Northw...   532.0    5.8  14.2   \n",
       "518      Extended Stay America Suites - Austin - Metro   636.0    6.3   4.6   \n",
       "\n",
       "           Time  hotel_count  \n",
       "0     20231.csv            2  \n",
       "1     20231.csv            2  \n",
       "2     20231.csv            3  \n",
       "3     20231.csv            2  \n",
       "4     20231.csv            3  \n",
       "..          ...          ...  \n",
       "514  202212.csv            3  \n",
       "515  202212.csv            2  \n",
       "516  202212.csv            2  \n",
       "517  202212.csv            3  \n",
       "518  202212.csv            3  \n",
       "\n",
       "[519 rows x 6 columns]"
      ]
     },
     "execution_count": 29,
     "metadata": {},
     "output_type": "execute_result"
    }
   ],
   "source": [
    "df"
   ]
  },
  {
   "cell_type": "code",
   "execution_count": 30,
   "metadata": {},
   "outputs": [],
   "source": [
    "def cal_holiday(row):\n",
    "    if row['Time'] == '20231.csv':\n",
    "        return 0\n",
    "    else:\n",
    "        return 1"
   ]
  },
  {
   "cell_type": "code",
   "execution_count": 31,
   "metadata": {},
   "outputs": [],
   "source": [
    "df['Holiday'] = df.apply(cal_holiday, axis=1)"
   ]
  },
  {
   "cell_type": "code",
   "execution_count": 32,
   "metadata": {},
   "outputs": [
    {
     "data": {
      "text/html": [
       "<div>\n",
       "<style scoped>\n",
       "    .dataframe tbody tr th:only-of-type {\n",
       "        vertical-align: middle;\n",
       "    }\n",
       "\n",
       "    .dataframe tbody tr th {\n",
       "        vertical-align: top;\n",
       "    }\n",
       "\n",
       "    .dataframe thead th {\n",
       "        text-align: right;\n",
       "    }\n",
       "</style>\n",
       "<table border=\"1\" class=\"dataframe\">\n",
       "  <thead>\n",
       "    <tr style=\"text-align: right;\">\n",
       "      <th></th>\n",
       "      <th>name</th>\n",
       "      <th>price</th>\n",
       "      <th>score</th>\n",
       "      <th>dis</th>\n",
       "      <th>Time</th>\n",
       "      <th>hotel_count</th>\n",
       "      <th>Holiday</th>\n",
       "    </tr>\n",
       "  </thead>\n",
       "  <tbody>\n",
       "    <tr>\n",
       "      <th>0</th>\n",
       "      <td>Hyatt House Austin/Downtown</td>\n",
       "      <td>1195.0</td>\n",
       "      <td>8.0</td>\n",
       "      <td>0.4</td>\n",
       "      <td>20231.csv</td>\n",
       "      <td>2</td>\n",
       "      <td>0</td>\n",
       "    </tr>\n",
       "    <tr>\n",
       "      <th>1</th>\n",
       "      <td>Courtyard Austin Downtown/Convention Center</td>\n",
       "      <td>1414.0</td>\n",
       "      <td>8.2</td>\n",
       "      <td>0.2</td>\n",
       "      <td>20231.csv</td>\n",
       "      <td>2</td>\n",
       "      <td>0</td>\n",
       "    </tr>\n",
       "    <tr>\n",
       "      <th>2</th>\n",
       "      <td>Hilton Garden Inn Cedar Park Austin</td>\n",
       "      <td>673.0</td>\n",
       "      <td>9.0</td>\n",
       "      <td>14.5</td>\n",
       "      <td>20231.csv</td>\n",
       "      <td>3</td>\n",
       "      <td>0</td>\n",
       "    </tr>\n",
       "    <tr>\n",
       "      <th>3</th>\n",
       "      <td>Sentral East Austin at 1614 E Sixth</td>\n",
       "      <td>1000.0</td>\n",
       "      <td>9.1</td>\n",
       "      <td>1.1</td>\n",
       "      <td>20231.csv</td>\n",
       "      <td>2</td>\n",
       "      <td>0</td>\n",
       "    </tr>\n",
       "    <tr>\n",
       "      <th>4</th>\n",
       "      <td>Sentral East Austin at 1630 E Sixth</td>\n",
       "      <td>840.0</td>\n",
       "      <td>8.1</td>\n",
       "      <td>1.1</td>\n",
       "      <td>20231.csv</td>\n",
       "      <td>3</td>\n",
       "      <td>0</td>\n",
       "    </tr>\n",
       "    <tr>\n",
       "      <th>...</th>\n",
       "      <td>...</td>\n",
       "      <td>...</td>\n",
       "      <td>...</td>\n",
       "      <td>...</td>\n",
       "      <td>...</td>\n",
       "      <td>...</td>\n",
       "      <td>...</td>\n",
       "    </tr>\n",
       "    <tr>\n",
       "      <th>514</th>\n",
       "      <td>Omni Barton Creek Resort &amp; Spa</td>\n",
       "      <td>2274.0</td>\n",
       "      <td>8.5</td>\n",
       "      <td>7.1</td>\n",
       "      <td>202212.csv</td>\n",
       "      <td>3</td>\n",
       "      <td>1</td>\n",
       "    </tr>\n",
       "    <tr>\n",
       "      <th>515</th>\n",
       "      <td>Residence Inn by Marriott Austin Northwest/The...</td>\n",
       "      <td>900.0</td>\n",
       "      <td>8.7</td>\n",
       "      <td>9.4</td>\n",
       "      <td>202212.csv</td>\n",
       "      <td>2</td>\n",
       "      <td>1</td>\n",
       "    </tr>\n",
       "    <tr>\n",
       "      <th>516</th>\n",
       "      <td>Super 8 by Wyndham Austin South I-35</td>\n",
       "      <td>546.0</td>\n",
       "      <td>4.9</td>\n",
       "      <td>3.7</td>\n",
       "      <td>202212.csv</td>\n",
       "      <td>2</td>\n",
       "      <td>1</td>\n",
       "    </tr>\n",
       "    <tr>\n",
       "      <th>517</th>\n",
       "      <td>Extended Stay America Suites - Austin - Northw...</td>\n",
       "      <td>532.0</td>\n",
       "      <td>5.8</td>\n",
       "      <td>14.2</td>\n",
       "      <td>202212.csv</td>\n",
       "      <td>3</td>\n",
       "      <td>1</td>\n",
       "    </tr>\n",
       "    <tr>\n",
       "      <th>518</th>\n",
       "      <td>Extended Stay America Suites - Austin - Metro</td>\n",
       "      <td>636.0</td>\n",
       "      <td>6.3</td>\n",
       "      <td>4.6</td>\n",
       "      <td>202212.csv</td>\n",
       "      <td>3</td>\n",
       "      <td>1</td>\n",
       "    </tr>\n",
       "  </tbody>\n",
       "</table>\n",
       "<p>519 rows × 7 columns</p>\n",
       "</div>"
      ],
      "text/plain": [
       "                                                  name   price  score   dis  \\\n",
       "0                          Hyatt House Austin/Downtown  1195.0    8.0   0.4   \n",
       "1          Courtyard Austin Downtown/Convention Center  1414.0    8.2   0.2   \n",
       "2                  Hilton Garden Inn Cedar Park Austin   673.0    9.0  14.5   \n",
       "3                  Sentral East Austin at 1614 E Sixth  1000.0    9.1   1.1   \n",
       "4                  Sentral East Austin at 1630 E Sixth   840.0    8.1   1.1   \n",
       "..                                                 ...     ...    ...   ...   \n",
       "514                     Omni Barton Creek Resort & Spa  2274.0    8.5   7.1   \n",
       "515  Residence Inn by Marriott Austin Northwest/The...   900.0    8.7   9.4   \n",
       "516               Super 8 by Wyndham Austin South I-35   546.0    4.9   3.7   \n",
       "517  Extended Stay America Suites - Austin - Northw...   532.0    5.8  14.2   \n",
       "518      Extended Stay America Suites - Austin - Metro   636.0    6.3   4.6   \n",
       "\n",
       "           Time  hotel_count  Holiday  \n",
       "0     20231.csv            2        0  \n",
       "1     20231.csv            2        0  \n",
       "2     20231.csv            3        0  \n",
       "3     20231.csv            2        0  \n",
       "4     20231.csv            3        0  \n",
       "..          ...          ...      ...  \n",
       "514  202212.csv            3        1  \n",
       "515  202212.csv            2        1  \n",
       "516  202212.csv            2        1  \n",
       "517  202212.csv            3        1  \n",
       "518  202212.csv            3        1  \n",
       "\n",
       "[519 rows x 7 columns]"
      ]
     },
     "execution_count": 32,
     "metadata": {},
     "output_type": "execute_result"
    }
   ],
   "source": [
    "df"
   ]
  },
  {
   "cell_type": "code",
   "execution_count": 33,
   "metadata": {},
   "outputs": [],
   "source": [
    "df['price'] = df['price'].astype(int)"
   ]
  },
  {
   "cell_type": "code",
   "execution_count": 34,
   "metadata": {},
   "outputs": [
    {
     "name": "stdout",
     "output_type": "stream",
     "text": [
      "<class 'pandas.core.frame.DataFrame'>\n",
      "RangeIndex: 519 entries, 0 to 518\n",
      "Data columns (total 7 columns):\n",
      " #   Column       Non-Null Count  Dtype  \n",
      "---  ------       --------------  -----  \n",
      " 0   name         519 non-null    object \n",
      " 1   price        519 non-null    int32  \n",
      " 2   score        519 non-null    float64\n",
      " 3   dis          519 non-null    float64\n",
      " 4   Time         519 non-null    object \n",
      " 5   hotel_count  519 non-null    int64  \n",
      " 6   Holiday      519 non-null    int64  \n",
      "dtypes: float64(2), int32(1), int64(2), object(2)\n",
      "memory usage: 26.5+ KB\n"
     ]
    }
   ],
   "source": [
    "df.info()"
   ]
  },
  {
   "cell_type": "code",
   "execution_count": 35,
   "metadata": {},
   "outputs": [
    {
     "data": {
      "text/plain": [
       "Index(['name', 'price', 'score', 'dis', 'Time', 'hotel_count', 'Holiday'], dtype='object')"
      ]
     },
     "execution_count": 35,
     "metadata": {},
     "output_type": "execute_result"
    }
   ],
   "source": [
    "df.columns"
   ]
  },
  {
   "cell_type": "code",
   "execution_count": 36,
   "metadata": {},
   "outputs": [
    {
     "data": {
      "text/plain": [
       "[Text(0, 0, '2023-1'), Text(1, 0, '2022-11'), Text(2, 0, '2022-12')]"
      ]
     },
     "execution_count": 36,
     "metadata": {},
     "output_type": "execute_result"
    },
    {
     "data": {
      "image/png": "[encoded data removed]",
      "text/plain": [
       "<Figure size 640x480 with 1 Axes>"
      ]
     },
     "metadata": {},
     "output_type": "display_data"
    }
   ],
   "source": [
    "p1 = seaborn.boxplot(x='Time', y='price', data=df)\n",
    "p1.set_xlabel('Date')\n",
    "p1.set_xticklabels(['2023-1', '2022-11', '2022-12'])"
   ]
  },
  {
   "cell_type": "code",
   "execution_count": 37,
   "metadata": {},
   "outputs": [],
   "source": [
    "clean_df = df.copy()"
   ]
  },
  {
   "cell_type": "code",
   "execution_count": 38,
   "metadata": {},
   "outputs": [],
   "source": [
    "clean_df = clean_df.loc[clean_df['hotel_count'] == 3]"
   ]
  },
  {
   "cell_type": "code",
   "execution_count": 39,
   "metadata": {},
   "outputs": [
    {
     "data": {
      "text/html": [
       "<div>\n",
       "<style scoped>\n",
       "    .dataframe tbody tr th:only-of-type {\n",
       "        vertical-align: middle;\n",
       "    }\n",
       "\n",
       "    .dataframe tbody tr th {\n",
       "        vertical-align: top;\n",
       "    }\n",
       "\n",
       "    .dataframe thead th {\n",
       "        text-align: right;\n",
       "    }\n",
       "</style>\n",
       "<table border=\"1\" class=\"dataframe\">\n",
       "  <thead>\n",
       "    <tr style=\"text-align: right;\">\n",
       "      <th></th>\n",
       "      <th>name</th>\n",
       "      <th>price</th>\n",
       "      <th>score</th>\n",
       "      <th>dis</th>\n",
       "      <th>Time</th>\n",
       "      <th>hotel_count</th>\n",
       "      <th>Holiday</th>\n",
       "    </tr>\n",
       "  </thead>\n",
       "  <tbody>\n",
       "    <tr>\n",
       "      <th>2</th>\n",
       "      <td>Hilton Garden Inn Cedar Park Austin</td>\n",
       "      <td>673</td>\n",
       "      <td>9.0</td>\n",
       "      <td>14.5</td>\n",
       "      <td>20231.csv</td>\n",
       "      <td>3</td>\n",
       "      <td>0</td>\n",
       "    </tr>\n",
       "    <tr>\n",
       "      <th>4</th>\n",
       "      <td>Sentral East Austin at 1630 E Sixth</td>\n",
       "      <td>840</td>\n",
       "      <td>8.1</td>\n",
       "      <td>1.1</td>\n",
       "      <td>20231.csv</td>\n",
       "      <td>3</td>\n",
       "      <td>0</td>\n",
       "    </tr>\n",
       "    <tr>\n",
       "      <th>5</th>\n",
       "      <td>Aiden by Best Western @ Austin City Hotel</td>\n",
       "      <td>955</td>\n",
       "      <td>8.2</td>\n",
       "      <td>2.2</td>\n",
       "      <td>20231.csv</td>\n",
       "      <td>3</td>\n",
       "      <td>0</td>\n",
       "    </tr>\n",
       "    <tr>\n",
       "      <th>6</th>\n",
       "      <td>The LINE Austin</td>\n",
       "      <td>1894</td>\n",
       "      <td>8.2</td>\n",
       "      <td>0.3</td>\n",
       "      <td>20231.csv</td>\n",
       "      <td>3</td>\n",
       "      <td>0</td>\n",
       "    </tr>\n",
       "    <tr>\n",
       "      <th>7</th>\n",
       "      <td>Cambria Hotel Austin Airport</td>\n",
       "      <td>764</td>\n",
       "      <td>8.8</td>\n",
       "      <td>4.5</td>\n",
       "      <td>20231.csv</td>\n",
       "      <td>3</td>\n",
       "      <td>0</td>\n",
       "    </tr>\n",
       "    <tr>\n",
       "      <th>...</th>\n",
       "      <td>...</td>\n",
       "      <td>...</td>\n",
       "      <td>...</td>\n",
       "      <td>...</td>\n",
       "      <td>...</td>\n",
       "      <td>...</td>\n",
       "      <td>...</td>\n",
       "    </tr>\n",
       "    <tr>\n",
       "      <th>510</th>\n",
       "      <td>Sonesta Select Austin North Central</td>\n",
       "      <td>854</td>\n",
       "      <td>7.9</td>\n",
       "      <td>5.5</td>\n",
       "      <td>202212.csv</td>\n",
       "      <td>3</td>\n",
       "      <td>1</td>\n",
       "    </tr>\n",
       "    <tr>\n",
       "      <th>511</th>\n",
       "      <td>Cabin-Style Book House &amp; Writing Barn</td>\n",
       "      <td>881</td>\n",
       "      <td>9.5</td>\n",
       "      <td>8.5</td>\n",
       "      <td>202212.csv</td>\n",
       "      <td>3</td>\n",
       "      <td>1</td>\n",
       "    </tr>\n",
       "    <tr>\n",
       "      <th>514</th>\n",
       "      <td>Omni Barton Creek Resort &amp; Spa</td>\n",
       "      <td>2274</td>\n",
       "      <td>8.5</td>\n",
       "      <td>7.1</td>\n",
       "      <td>202212.csv</td>\n",
       "      <td>3</td>\n",
       "      <td>1</td>\n",
       "    </tr>\n",
       "    <tr>\n",
       "      <th>517</th>\n",
       "      <td>Extended Stay America Suites - Austin - Northw...</td>\n",
       "      <td>532</td>\n",
       "      <td>5.8</td>\n",
       "      <td>14.2</td>\n",
       "      <td>202212.csv</td>\n",
       "      <td>3</td>\n",
       "      <td>1</td>\n",
       "    </tr>\n",
       "    <tr>\n",
       "      <th>518</th>\n",
       "      <td>Extended Stay America Suites - Austin - Metro</td>\n",
       "      <td>636</td>\n",
       "      <td>6.3</td>\n",
       "      <td>4.6</td>\n",
       "      <td>202212.csv</td>\n",
       "      <td>3</td>\n",
       "      <td>1</td>\n",
       "    </tr>\n",
       "  </tbody>\n",
       "</table>\n",
       "<p>261 rows × 7 columns</p>\n",
       "</div>"
      ],
      "text/plain": [
       "                                                  name  price  score   dis  \\\n",
       "2                  Hilton Garden Inn Cedar Park Austin    673    9.0  14.5   \n",
       "4                  Sentral East Austin at 1630 E Sixth    840    8.1   1.1   \n",
       "5            Aiden by Best Western @ Austin City Hotel    955    8.2   2.2   \n",
       "6                                      The LINE Austin   1894    8.2   0.3   \n",
       "7                         Cambria Hotel Austin Airport    764    8.8   4.5   \n",
       "..                                                 ...    ...    ...   ...   \n",
       "510                Sonesta Select Austin North Central    854    7.9   5.5   \n",
       "511              Cabin-Style Book House & Writing Barn    881    9.5   8.5   \n",
       "514                     Omni Barton Creek Resort & Spa   2274    8.5   7.1   \n",
       "517  Extended Stay America Suites - Austin - Northw...    532    5.8  14.2   \n",
       "518      Extended Stay America Suites - Austin - Metro    636    6.3   4.6   \n",
       "\n",
       "           Time  hotel_count  Holiday  \n",
       "2     20231.csv            3        0  \n",
       "4     20231.csv            3        0  \n",
       "5     20231.csv            3        0  \n",
       "6     20231.csv            3        0  \n",
       "7     20231.csv            3        0  \n",
       "..          ...          ...      ...  \n",
       "510  202212.csv            3        1  \n",
       "511  202212.csv            3        1  \n",
       "514  202212.csv            3        1  \n",
       "517  202212.csv            3        1  \n",
       "518  202212.csv            3        1  \n",
       "\n",
       "[261 rows x 7 columns]"
      ]
     },
     "execution_count": 39,
     "metadata": {},
     "output_type": "execute_result"
    }
   ],
   "source": [
    "clean_df"
   ]
  },
  {
   "cell_type": "code",
   "execution_count": 40,
   "metadata": {},
   "outputs": [
    {
     "data": {
      "text/plain": [
       "<matplotlib.collections.PathCollection at 0x17ee9e0a1d0>"
      ]
     },
     "execution_count": 40,
     "metadata": {},
     "output_type": "execute_result"
    },
    {
     "data": {
      "image/png": "[encoded data removed]",
      "text/plain": [
       "<Figure size 640x480 with 1 Axes>"
      ]
     },
     "metadata": {},
     "output_type": "display_data"
    }
   ],
   "source": [
    "plt.scatter(clean_df['dis'], clean_df['price'])"
   ]
  },
  {
   "cell_type": "code",
   "execution_count": 41,
   "metadata": {},
   "outputs": [
    {
     "data": {
      "text/plain": [
       "<matplotlib.collections.PathCollection at 0x17ee9e87430>"
      ]
     },
     "execution_count": 41,
     "metadata": {},
     "output_type": "execute_result"
    },
    {
     "data": {
      "image/png": "[encoded data removed]",
      "text/plain": [
       "<Figure size 640x480 with 1 Axes>"
      ]
     },
     "metadata": {},
     "output_type": "display_data"
    }
   ],
   "source": [
    "plt.scatter(clean_df['score'], clean_df['price'])"
   ]
  },
  {
   "cell_type": "code",
   "execution_count": 42,
   "metadata": {},
   "outputs": [],
   "source": [
    "x = clean_df[['dis', 'score']]"
   ]
  },
  {
   "cell_type": "code",
   "execution_count": 43,
   "metadata": {},
   "outputs": [
    {
     "data": {
      "text/html": [
       "<div>\n",
       "<style scoped>\n",
       "    .dataframe tbody tr th:only-of-type {\n",
       "        vertical-align: middle;\n",
       "    }\n",
       "\n",
       "    .dataframe tbody tr th {\n",
       "        vertical-align: top;\n",
       "    }\n",
       "\n",
       "    .dataframe thead th {\n",
       "        text-align: right;\n",
       "    }\n",
       "</style>\n",
       "<table border=\"1\" class=\"dataframe\">\n",
       "  <thead>\n",
       "    <tr style=\"text-align: right;\">\n",
       "      <th></th>\n",
       "      <th>dis</th>\n",
       "      <th>score</th>\n",
       "    </tr>\n",
       "  </thead>\n",
       "  <tbody>\n",
       "    <tr>\n",
       "      <th>2</th>\n",
       "      <td>14.5</td>\n",
       "      <td>9.0</td>\n",
       "    </tr>\n",
       "    <tr>\n",
       "      <th>4</th>\n",
       "      <td>1.1</td>\n",
       "      <td>8.1</td>\n",
       "    </tr>\n",
       "    <tr>\n",
       "      <th>5</th>\n",
       "      <td>2.2</td>\n",
       "      <td>8.2</td>\n",
       "    </tr>\n",
       "    <tr>\n",
       "      <th>6</th>\n",
       "      <td>0.3</td>\n",
       "      <td>8.2</td>\n",
       "    </tr>\n",
       "    <tr>\n",
       "      <th>7</th>\n",
       "      <td>4.5</td>\n",
       "      <td>8.8</td>\n",
       "    </tr>\n",
       "    <tr>\n",
       "      <th>...</th>\n",
       "      <td>...</td>\n",
       "      <td>...</td>\n",
       "    </tr>\n",
       "    <tr>\n",
       "      <th>510</th>\n",
       "      <td>5.5</td>\n",
       "      <td>7.9</td>\n",
       "    </tr>\n",
       "    <tr>\n",
       "      <th>511</th>\n",
       "      <td>8.5</td>\n",
       "      <td>9.5</td>\n",
       "    </tr>\n",
       "    <tr>\n",
       "      <th>514</th>\n",
       "      <td>7.1</td>\n",
       "      <td>8.5</td>\n",
       "    </tr>\n",
       "    <tr>\n",
       "      <th>517</th>\n",
       "      <td>14.2</td>\n",
       "      <td>5.8</td>\n",
       "    </tr>\n",
       "    <tr>\n",
       "      <th>518</th>\n",
       "      <td>4.6</td>\n",
       "      <td>6.3</td>\n",
       "    </tr>\n",
       "  </tbody>\n",
       "</table>\n",
       "<p>261 rows × 2 columns</p>\n",
       "</div>"
      ],
      "text/plain": [
       "      dis  score\n",
       "2    14.5    9.0\n",
       "4     1.1    8.1\n",
       "5     2.2    8.2\n",
       "6     0.3    8.2\n",
       "7     4.5    8.8\n",
       "..    ...    ...\n",
       "510   5.5    7.9\n",
       "511   8.5    9.5\n",
       "514   7.1    8.5\n",
       "517  14.2    5.8\n",
       "518   4.6    6.3\n",
       "\n",
       "[261 rows x 2 columns]"
      ]
     },
     "execution_count": 43,
     "metadata": {},
     "output_type": "execute_result"
    }
   ],
   "source": [
    "x"
   ]
  },
  {
   "cell_type": "code",
   "execution_count": 44,
   "metadata": {},
   "outputs": [],
   "source": [
    "y = clean_df['price']"
   ]
  },
  {
   "cell_type": "code",
   "execution_count": 45,
   "metadata": {},
   "outputs": [],
   "source": [
    "x, y = np.array(x), np.array(y)"
   ]
  },
  {
   "cell_type": "code",
   "execution_count": 46,
   "metadata": {},
   "outputs": [],
   "source": [
    "x = sm.add_constant(x)"
   ]
  },
  {
   "cell_type": "code",
   "execution_count": 47,
   "metadata": {},
   "outputs": [],
   "source": [
    "model = sm.OLS(y, x)"
   ]
  },
  {
   "cell_type": "code",
   "execution_count": 48,
   "metadata": {},
   "outputs": [],
   "source": [
    "results = model.fit()"
   ]
  },
  {
   "cell_type": "code",
   "execution_count": 49,
   "metadata": {},
   "outputs": [
    {
     "name": "stdout",
     "output_type": "stream",
     "text": [
      "                            OLS Regression Results                            \n",
      "==============================================================================\n",
      "Dep. Variable:                      y   R-squared:                       0.361\n",
      "Model:                            OLS   Adj. R-squared:                  0.356\n",
      "Method:                 Least Squares   F-statistic:                     72.74\n",
      "Date:                Wed, 12 Oct 2022   Prob (F-statistic):           8.85e-26\n",
      "Time:                        23:59:49   Log-Likelihood:                -1874.7\n",
      "No. Observations:                 261   AIC:                             3755.\n",
      "Df Residuals:                     258   BIC:                             3766.\n",
      "Df Model:                           2                                         \n",
      "Covariance Type:            nonrobust                                         \n",
      "==============================================================================\n",
      "                 coef    std err          t      P>|t|      [0.025      0.975]\n",
      "------------------------------------------------------------------------------\n",
      "const        -84.1870    147.623     -0.570      0.569    -374.886     206.512\n",
      "x1           -37.9398      4.833     -7.850      0.000     -47.458     -28.422\n",
      "x2           150.6352     17.736      8.493      0.000     115.710     185.561\n",
      "==============================================================================\n",
      "Omnibus:                      110.975   Durbin-Watson:                   1.988\n",
      "Prob(Omnibus):                  0.000   Jarque-Bera (JB):              373.552\n",
      "Skew:                           1.861   Prob(JB):                     7.66e-82\n",
      "Kurtosis:                       7.527   Cond. No.                         73.4\n",
      "==============================================================================\n",
      "\n",
      "Notes:\n",
      "[1] Standard Errors assume that the covariance matrix of the errors is correctly specified.\n"
     ]
    }
   ],
   "source": [
    "print(results.summary())"
   ]
  },
  {
   "cell_type": "code",
   "execution_count": 50,
   "metadata": {},
   "outputs": [],
   "source": [
    "subset_1 = clean_df[clean_df['Holiday'] == 0]"
   ]
  },
  {
   "cell_type": "code",
   "execution_count": 51,
   "metadata": {},
   "outputs": [],
   "source": [
    "subset_2 = clean_df[clean_df['Holiday'] == 1]"
   ]
  },
  {
   "cell_type": "code",
   "execution_count": 52,
   "metadata": {},
   "outputs": [],
   "source": [
    "y = subset_1['price']"
   ]
  },
  {
   "cell_type": "code",
   "execution_count": 53,
   "metadata": {},
   "outputs": [],
   "source": [
    "x = subset_1[['dis', 'score']]"
   ]
  },
  {
   "cell_type": "code",
   "execution_count": 54,
   "metadata": {},
   "outputs": [],
   "source": [
    "x, y = np.array(x), np.array(y)"
   ]
  },
  {
   "cell_type": "code",
   "execution_count": 55,
   "metadata": {},
   "outputs": [],
   "source": [
    "x = sm.add_constant(x)"
   ]
  },
  {
   "cell_type": "code",
   "execution_count": 56,
   "metadata": {},
   "outputs": [],
   "source": [
    "model = sm.OLS(y, x)"
   ]
  },
  {
   "cell_type": "code",
   "execution_count": 57,
   "metadata": {},
   "outputs": [],
   "source": [
    "results = model.fit()"
   ]
  },
  {
   "cell_type": "code",
   "execution_count": 58,
   "metadata": {},
   "outputs": [
    {
     "name": "stdout",
     "output_type": "stream",
     "text": [
      "                            OLS Regression Results                            \n",
      "==============================================================================\n",
      "Dep. Variable:                      y   R-squared:                       0.343\n",
      "Model:                            OLS   Adj. R-squared:                  0.328\n",
      "Method:                 Least Squares   F-statistic:                     21.97\n",
      "Date:                Wed, 12 Oct 2022   Prob (F-statistic):           2.12e-08\n",
      "Time:                        23:59:51   Log-Likelihood:                -644.18\n",
      "No. Observations:                  87   AIC:                             1294.\n",
      "Df Residuals:                      84   BIC:                             1302.\n",
      "Df Model:                           2                                         \n",
      "Covariance Type:            nonrobust                                         \n",
      "==============================================================================\n",
      "                 coef    std err          t      P>|t|      [0.025      0.975]\n",
      "------------------------------------------------------------------------------\n",
      "const        107.0813    322.918      0.332      0.741    -535.076     749.238\n",
      "x1           -53.3196     10.573     -5.043      0.000     -74.345     -32.295\n",
      "x2           150.5289     38.797      3.880      0.000      73.378     227.680\n",
      "==============================================================================\n",
      "Omnibus:                       20.251   Durbin-Watson:                   2.235\n",
      "Prob(Omnibus):                  0.000   Jarque-Bera (JB):               25.163\n",
      "Skew:                           1.198   Prob(JB):                     3.43e-06\n",
      "Kurtosis:                       4.095   Cond. No.                         73.4\n",
      "==============================================================================\n",
      "\n",
      "Notes:\n",
      "[1] Standard Errors assume that the covariance matrix of the errors is correctly specified.\n"
     ]
    }
   ],
   "source": [
    "print(results.summary())"
   ]
  },
  {
   "cell_type": "code",
   "execution_count": 59,
   "metadata": {},
   "outputs": [],
   "source": [
    "y = subset_2['price']\n",
    "x = subset_2[['dis', 'score']]\n",
    "x, y = np.array(x), np.array(y)\n",
    "x = sm.add_constant(x)\n",
    "model = sm.OLS(y, x)\n",
    "results = model.fit()"
   ]
  },
  {
   "cell_type": "code",
   "execution_count": 60,
   "metadata": {},
   "outputs": [
    {
     "name": "stdout",
     "output_type": "stream",
     "text": [
      "                            OLS Regression Results                            \n",
      "==============================================================================\n",
      "Dep. Variable:                      y   R-squared:                       0.440\n",
      "Model:                            OLS   Adj. R-squared:                  0.433\n",
      "Method:                 Least Squares   F-statistic:                     67.17\n",
      "Date:                Wed, 12 Oct 2022   Prob (F-statistic):           2.96e-22\n",
      "Time:                        23:59:51   Log-Likelihood:                -1204.7\n",
      "No. Observations:                 174   AIC:                             2415.\n",
      "Df Residuals:                     171   BIC:                             2425.\n",
      "Df Model:                           2                                         \n",
      "Covariance Type:            nonrobust                                         \n",
      "==============================================================================\n",
      "                 coef    std err          t      P>|t|      [0.025      0.975]\n",
      "------------------------------------------------------------------------------\n",
      "const       -179.8211    139.950     -1.285      0.201    -456.074      96.432\n",
      "x1           -30.2499      4.582     -6.602      0.000     -39.295     -21.205\n",
      "x2           150.6884     16.814      8.962      0.000     117.498     183.878\n",
      "==============================================================================\n",
      "Omnibus:                       91.929   Durbin-Watson:                   1.998\n",
      "Prob(Omnibus):                  0.000   Jarque-Bera (JB):              501.038\n",
      "Skew:                           1.944   Prob(JB):                    1.59e-109\n",
      "Kurtosis:                      10.347   Cond. No.                         73.4\n",
      "==============================================================================\n",
      "\n",
      "Notes:\n",
      "[1] Standard Errors assume that the covariance matrix of the errors is correctly specified.\n"
     ]
    }
   ],
   "source": [
    "print(results.summary())"
   ]
  },
  {
   "cell_type": "code",
   "execution_count": null,
   "metadata": {},
   "outputs": [],
   "source": []
  },
  {
   "cell_type": "code",
   "execution_count": null,
   "metadata": {},
   "outputs": [],
   "source": []
  }
 ],
 "metadata": {
  "kernelspec": {
   "display_name": "Python 3 (ipykernel)",
   "language": "python",
   "name": "python3"
  },
  "language_info": {
   "codemirror_mode": {
    "name": "ipython",
    "version": 3
   },
   "file_extension": ".py",
   "mimetype": "text/x-python",
   "name": "python",
   "nbconvert_exporter": "python",
   "pygments_lexer": "ipython3",
   "version": "3.10.6"
  }
 },
 "nbformat": 4,
 "nbformat_minor": 4
}
