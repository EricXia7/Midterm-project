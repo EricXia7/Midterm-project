{
 "cells": [
  {
   "cell_type": "code",
   "execution_count": null,
   "metadata": {},
   "outputs": [],
   "source": [
    "import pandas as pd"
   ]
  },
  {
   "cell_type": "code",
   "execution_count": null,
   "metadata": {},
   "outputs": [],
   "source": [
    "import os"
   ]
  },
  {
   "cell_type": "code",
   "execution_count": null,
   "metadata": {},
   "outputs": [],
   "source": [
    "import matplotlib.pyplot as plt"
   ]
  },
  {
   "cell_type": "code",
   "execution_count": null,
   "metadata": {},
   "outputs": [],
   "source": [
    "import seaborn"
   ]
  },
  {
   "cell_type": "code",
   "execution_count": null,
   "metadata": {},
   "outputs": [],
   "source": [
    "import numpy as np"
   ]
  },
  {
   "cell_type": "code",
   "execution_count": null,
   "metadata": {},
   "outputs": [],
   "source": [
    "import statsmodels.api as sm"
   ]
  },
  {
   "cell_type": "code",
   "execution_count": null,
   "metadata": {},
   "outputs": [],
   "source": [
    "PATH = os.path.abspath('')"
   ]
  },
  {
   "cell_type": "code",
   "execution_count": null,
   "metadata": {},
   "outputs": [
    {
     "data": {
      "text/plain": [
       "'/Users/meetlu/Desktop/repos/UT/Midterm-project /code3'"
      ]
     },
     "execution_count": 9,
     "metadata": {},
     "output_type": "execute_result"
    }
   ],
   "source": [
    "PATH"
   ]
  },
  {
   "cell_type": "code",
   "execution_count": null,
   "metadata": {},
   "outputs": [],
   "source": [
    "csv_dir=os.path.dirname(PATH)"
   ]
  },
  {
   "cell_type": "code",
   "execution_count": null,
   "metadata": {},
   "outputs": [
    {
     "data": {
      "text/plain": [
       "'/Users/meetlu/Desktop/repos/UT/Midterm-project '"
      ]
     },
     "execution_count": 11,
     "metadata": {},
     "output_type": "execute_result"
    }
   ],
   "source": [
    "csv_dir"
   ]
  },
  {
   "cell_type": "code",
   "execution_count": null,
   "metadata": {},
   "outputs": [],
   "source": [
    "csv_PATH=csv_dir+'/dataset'"
   ]
  },
  {
   "cell_type": "code",
   "execution_count": null,
   "metadata": {},
   "outputs": [
    {
     "data": {
      "text/plain": [
       "'/Users/meetlu/Desktop/repos/UT/Midterm-project /dataset'"
      ]
     },
     "execution_count": 13,
     "metadata": {},
     "output_type": "execute_result"
    }
   ],
   "source": [
    "csv_PATH"
   ]
  },
  {
   "cell_type": "code",
   "execution_count": null,
   "metadata": {},
   "outputs": [],
   "source": [
    "filenames = ['20231.csv', '202211.csv', '202212.csv']"
   ]
  },
  {
   "cell_type": "code",
   "execution_count": null,
   "metadata": {},
   "outputs": [],
   "source": [
    "files = []"
   ]
  },
  {
   "cell_type": "code",
   "execution_count": null,
   "metadata": {},
   "outputs": [],
   "source": [
    "for filename in filenames:\n",
    "    files.append(os.path.join(csv_PATH, filename))"
   ]
  },
  {
   "cell_type": "code",
   "execution_count": null,
   "metadata": {},
   "outputs": [
    {
     "data": {
      "text/plain": [
       "['/Users/meetlu/Desktop/repos/UT/Midterm-project /dataset/20231.csv',\n",
       " '/Users/meetlu/Desktop/repos/UT/Midterm-project /dataset/202211.csv',\n",
       " '/Users/meetlu/Desktop/repos/UT/Midterm-project /dataset/202212.csv']"
      ]
     },
     "execution_count": 17,
     "metadata": {},
     "output_type": "execute_result"
    }
   ],
   "source": [
    "files"
   ]
  },
  {
   "cell_type": "code",
   "execution_count": null,
   "metadata": {},
   "outputs": [],
   "source": [
    "df_names = []"
   ]
  },
  {
   "cell_type": "code",
   "execution_count": null,
   "metadata": {},
   "outputs": [],
   "source": [
    "for i in range(1,len(files)+1):\n",
    "    df_names.append('df' + str(i))"
   ]
  },
  {
   "cell_type": "code",
   "execution_count": null,
   "metadata": {},
   "outputs": [
    {
     "data": {
      "text/plain": [
       "['df1', 'df2', 'df3']"
      ]
     },
     "execution_count": 20,
     "metadata": {},
     "output_type": "execute_result"
    }
   ],
   "source": [
    "df_names"
   ]
  },
  {
   "cell_type": "code",
   "execution_count": null,
   "metadata": {},
   "outputs": [],
   "source": [
    "d = {}"
   ]
  },
  {
   "cell_type": "code",
   "execution_count": null,
   "metadata": {},
   "outputs": [],
   "source": [
    "for i in range(len(df_names)):\n",
    "    name = df_names[i]\n",
    "    tmp = pd.read_csv(files[i])\n",
    "    tmp['Time'] = filenames[i]\n",
    "    d[name] = tmp"
   ]
  },
  {
   "cell_type": "code",
   "execution_count": null,
   "metadata": {},
   "outputs": [
    {
     "data": {
      "text/plain": [
       "{'df1':                                                   name   price  score   dis  \\\n",
       " 0          Courtyard Austin Downtown/Convention Center  1414.0    8.2   0.2   \n",
       " 1                                      The LINE Austin  1894.0    8.2   0.3   \n",
       " 2                             Sentral East Austin 1630   840.0    8.1   1.1   \n",
       " 3                             Sentral East Austin 1614  1000.0    9.1   1.1   \n",
       " 4            Aiden by Best Western @ Austin City Hotel   955.0    8.2   2.2   \n",
       " ..                                                 ...     ...    ...   ...   \n",
       " 177  Extended Stay America Suites - Austin - Northw...   503.0    5.8  14.2   \n",
       " 178    Austin House with Back Yard - 15 Mi to Downtown  1467.0    9.0  12.8   \n",
       " 179              Fairfield Inn and Suites Austin South   728.0    8.3   4.1   \n",
       " 180   Residence Inn by Marriott Austin The Domain Area  1184.0    7.9   8.1   \n",
       " 181               Motel 6-Austin, TX - South - Airport   664.0    4.7   2.7   \n",
       " \n",
       "           Time  \n",
       " 0    20231.csv  \n",
       " 1    20231.csv  \n",
       " 2    20231.csv  \n",
       " 3    20231.csv  \n",
       " 4    20231.csv  \n",
       " ..         ...  \n",
       " 177  20231.csv  \n",
       " 178  20231.csv  \n",
       " 179  20231.csv  \n",
       " 180  20231.csv  \n",
       " 181  20231.csv  \n",
       " \n",
       " [182 rows x 5 columns],\n",
       " 'df2':                                                   name   price  score   dis  \\\n",
       " 0                                      Fairmont Austin  1052.0    8.9   0.4   \n",
       " 1          Courtyard Austin Downtown/Convention Center   974.0    8.2   0.2   \n",
       " 2    La Quinta Inn by Wyndham Austin Capitol / Down...   682.0    5.8   0.4   \n",
       " 3                                      The LINE Austin  1324.0    8.2   0.3   \n",
       " 4          DoubleTree by Hilton Austin-University Area   915.0    8.0   1.1   \n",
       " ..                                                 ...     ...    ...   ...   \n",
       " 177  20th floor condo with pool on Rainey Street by...  1603.0    8.0   0.8   \n",
       " 178    Courtyard Austin by Marriott Northwest/Lakeline   679.0    8.7  14.2   \n",
       " 179              Fairfield Inn and Suites Austin South   728.0    8.3   4.1   \n",
       " 180                              Austin Marriott South  1003.0    8.2   3.9   \n",
       " 181                                           W Austin  1584.0    7.4   0.3   \n",
       " \n",
       "            Time  \n",
       " 0    202211.csv  \n",
       " 1    202211.csv  \n",
       " 2    202211.csv  \n",
       " 3    202211.csv  \n",
       " 4    202211.csv  \n",
       " ..          ...  \n",
       " 177  202211.csv  \n",
       " 178  202211.csv  \n",
       " 179  202211.csv  \n",
       " 180  202211.csv  \n",
       " 181  202211.csv  \n",
       " \n",
       " [182 rows x 5 columns],\n",
       " 'df3':                                                   name   price  score   dis  \\\n",
       " 0                                      Fairmont Austin  1016.0    8.9   0.4   \n",
       " 1          Courtyard Austin Downtown/Convention Center   954.0    8.2   0.2   \n",
       " 2                          Hyatt House Austin/Downtown   774.0    8.0   0.4   \n",
       " 3                                      The LINE Austin  1244.0    8.2   0.3   \n",
       " 4                  Hilton Garden Inn Cedar Park Austin   615.0    9.0  14.5   \n",
       " ..                                                 ...     ...    ...   ...   \n",
       " 161    Courtyard Austin by Marriott Northwest/Lakeline   659.0    8.7  14.2   \n",
       " 162  Downtown, Convention Center, Capitol, Zilker P...  3895.0    8.3   1.9   \n",
       " 163                                Hotel Saint Cecilia  2749.0    9.0   1.1   \n",
       " 164                                Natiivo Austin VIII  1437.0   10.0   0.8   \n",
       " 165               Motel 6-Austin, TX - South - Airport   644.0    4.7   2.7   \n",
       " \n",
       "            Time  \n",
       " 0    202212.csv  \n",
       " 1    202212.csv  \n",
       " 2    202212.csv  \n",
       " 3    202212.csv  \n",
       " 4    202212.csv  \n",
       " ..          ...  \n",
       " 161  202212.csv  \n",
       " 162  202212.csv  \n",
       " 163  202212.csv  \n",
       " 164  202212.csv  \n",
       " 165  202212.csv  \n",
       " \n",
       " [166 rows x 5 columns]}"
      ]
     },
     "execution_count": 23,
     "metadata": {},
     "output_type": "execute_result"
    }
   ],
   "source": [
    "d"
   ]
  },
  {
   "cell_type": "code",
   "execution_count": null,
   "metadata": {},
   "outputs": [],
   "source": [
    "df = pd.concat(d.values(), ignore_index=True)"
   ]
  },
  {
   "cell_type": "code",
   "execution_count": null,
   "metadata": {},
   "outputs": [
    {
     "data": {
      "text/html": [
       "<div>\n",
       "<style scoped>\n",
       "    .dataframe tbody tr th:only-of-type {\n",
       "        vertical-align: middle;\n",
       "    }\n",
       "\n",
       "    .dataframe tbody tr th {\n",
       "        vertical-align: top;\n",
       "    }\n",
       "\n",
       "    .dataframe thead th {\n",
       "        text-align: right;\n",
       "    }\n",
       "</style>\n",
       "<table border=\"1\" class=\"dataframe\">\n",
       "  <thead>\n",
       "    <tr style=\"text-align: right;\">\n",
       "      <th></th>\n",
       "      <th>name</th>\n",
       "      <th>price</th>\n",
       "      <th>score</th>\n",
       "      <th>dis</th>\n",
       "      <th>Time</th>\n",
       "    </tr>\n",
       "  </thead>\n",
       "  <tbody>\n",
       "    <tr>\n",
       "      <th>0</th>\n",
       "      <td>Courtyard Austin Downtown/Convention Center</td>\n",
       "      <td>1414.0</td>\n",
       "      <td>8.2</td>\n",
       "      <td>0.2</td>\n",
       "      <td>20231.csv</td>\n",
       "    </tr>\n",
       "    <tr>\n",
       "      <th>1</th>\n",
       "      <td>The LINE Austin</td>\n",
       "      <td>1894.0</td>\n",
       "      <td>8.2</td>\n",
       "      <td>0.3</td>\n",
       "      <td>20231.csv</td>\n",
       "    </tr>\n",
       "    <tr>\n",
       "      <th>2</th>\n",
       "      <td>Sentral East Austin 1630</td>\n",
       "      <td>840.0</td>\n",
       "      <td>8.1</td>\n",
       "      <td>1.1</td>\n",
       "      <td>20231.csv</td>\n",
       "    </tr>\n",
       "    <tr>\n",
       "      <th>3</th>\n",
       "      <td>Sentral East Austin 1614</td>\n",
       "      <td>1000.0</td>\n",
       "      <td>9.1</td>\n",
       "      <td>1.1</td>\n",
       "      <td>20231.csv</td>\n",
       "    </tr>\n",
       "    <tr>\n",
       "      <th>4</th>\n",
       "      <td>Aiden by Best Western @ Austin City Hotel</td>\n",
       "      <td>955.0</td>\n",
       "      <td>8.2</td>\n",
       "      <td>2.2</td>\n",
       "      <td>20231.csv</td>\n",
       "    </tr>\n",
       "    <tr>\n",
       "      <th>...</th>\n",
       "      <td>...</td>\n",
       "      <td>...</td>\n",
       "      <td>...</td>\n",
       "      <td>...</td>\n",
       "      <td>...</td>\n",
       "    </tr>\n",
       "    <tr>\n",
       "      <th>525</th>\n",
       "      <td>Courtyard Austin by Marriott Northwest/Lakeline</td>\n",
       "      <td>659.0</td>\n",
       "      <td>8.7</td>\n",
       "      <td>14.2</td>\n",
       "      <td>202212.csv</td>\n",
       "    </tr>\n",
       "    <tr>\n",
       "      <th>526</th>\n",
       "      <td>Downtown, Convention Center, Capitol, Zilker P...</td>\n",
       "      <td>3895.0</td>\n",
       "      <td>8.3</td>\n",
       "      <td>1.9</td>\n",
       "      <td>202212.csv</td>\n",
       "    </tr>\n",
       "    <tr>\n",
       "      <th>527</th>\n",
       "      <td>Hotel Saint Cecilia</td>\n",
       "      <td>2749.0</td>\n",
       "      <td>9.0</td>\n",
       "      <td>1.1</td>\n",
       "      <td>202212.csv</td>\n",
       "    </tr>\n",
       "    <tr>\n",
       "      <th>528</th>\n",
       "      <td>Natiivo Austin VIII</td>\n",
       "      <td>1437.0</td>\n",
       "      <td>10.0</td>\n",
       "      <td>0.8</td>\n",
       "      <td>202212.csv</td>\n",
       "    </tr>\n",
       "    <tr>\n",
       "      <th>529</th>\n",
       "      <td>Motel 6-Austin, TX - South - Airport</td>\n",
       "      <td>644.0</td>\n",
       "      <td>4.7</td>\n",
       "      <td>2.7</td>\n",
       "      <td>202212.csv</td>\n",
       "    </tr>\n",
       "  </tbody>\n",
       "</table>\n",
       "<p>530 rows × 5 columns</p>\n",
       "</div>"
      ],
      "text/plain": [
       "                                                  name   price  score   dis  \\\n",
       "0          Courtyard Austin Downtown/Convention Center  1414.0    8.2   0.2   \n",
       "1                                      The LINE Austin  1894.0    8.2   0.3   \n",
       "2                             Sentral East Austin 1630   840.0    8.1   1.1   \n",
       "3                             Sentral East Austin 1614  1000.0    9.1   1.1   \n",
       "4            Aiden by Best Western @ Austin City Hotel   955.0    8.2   2.2   \n",
       "..                                                 ...     ...    ...   ...   \n",
       "525    Courtyard Austin by Marriott Northwest/Lakeline   659.0    8.7  14.2   \n",
       "526  Downtown, Convention Center, Capitol, Zilker P...  3895.0    8.3   1.9   \n",
       "527                                Hotel Saint Cecilia  2749.0    9.0   1.1   \n",
       "528                                Natiivo Austin VIII  1437.0   10.0   0.8   \n",
       "529               Motel 6-Austin, TX - South - Airport   644.0    4.7   2.7   \n",
       "\n",
       "           Time  \n",
       "0     20231.csv  \n",
       "1     20231.csv  \n",
       "2     20231.csv  \n",
       "3     20231.csv  \n",
       "4     20231.csv  \n",
       "..          ...  \n",
       "525  202212.csv  \n",
       "526  202212.csv  \n",
       "527  202212.csv  \n",
       "528  202212.csv  \n",
       "529  202212.csv  \n",
       "\n",
       "[530 rows x 5 columns]"
      ]
     },
     "execution_count": 25,
     "metadata": {},
     "output_type": "execute_result"
    }
   ],
   "source": [
    "df"
   ]
  },
  {
   "cell_type": "code",
   "execution_count": null,
   "metadata": {},
   "outputs": [
    {
     "data": {
      "text/plain": [
       "Courtyard Austin Downtown/Convention Center                            3\n",
       "A Secluded Urban Escape                                                3\n",
       "The LINE Austin                                                        3\n",
       "Residence Inn Austin Downtown / Convention Center                      3\n",
       "Terrace on Shoal Creek #19                                             3\n",
       "                                                                      ..\n",
       "Natiivo Austin VII                                                     1\n",
       "Evonify Stays - Mueller - Renovated Furnished Apartments               1\n",
       "Vivant - Spacious 2BR King Bed Suites Close to Downtown and Airport    1\n",
       "Luxe 2BD Apt Heart of Austin, SoCo District!                           1\n",
       "Hotel Saint Cecilia                                                    1\n",
       "Name: name, Length: 243, dtype: int64"
      ]
     },
     "execution_count": 26,
     "metadata": {},
     "output_type": "execute_result"
    }
   ],
   "source": [
    "df['name'].value_counts()"
   ]
  },
  {
   "cell_type": "code",
   "execution_count": null,
   "metadata": {},
   "outputs": [],
   "source": [
    "index = df['name'].value_counts() == 3"
   ]
  },
  {
   "cell_type": "code",
   "execution_count": null,
   "metadata": {},
   "outputs": [
    {
     "data": {
      "text/plain": [
       "103"
      ]
     },
     "execution_count": 28,
     "metadata": {},
     "output_type": "execute_result"
    }
   ],
   "source": [
    "sum(index)"
   ]
  },
  {
   "cell_type": "code",
   "execution_count": null,
   "metadata": {},
   "outputs": [],
   "source": [
    "df['hotel_count'] = df.groupby('name')['name'].transform('count')"
   ]
  },
  {
   "cell_type": "code",
   "execution_count": null,
   "metadata": {},
   "outputs": [
    {
     "data": {
      "text/html": [
       "<div>\n",
       "<style scoped>\n",
       "    .dataframe tbody tr th:only-of-type {\n",
       "        vertical-align: middle;\n",
       "    }\n",
       "\n",
       "    .dataframe tbody tr th {\n",
       "        vertical-align: top;\n",
       "    }\n",
       "\n",
       "    .dataframe thead th {\n",
       "        text-align: right;\n",
       "    }\n",
       "</style>\n",
       "<table border=\"1\" class=\"dataframe\">\n",
       "  <thead>\n",
       "    <tr style=\"text-align: right;\">\n",
       "      <th></th>\n",
       "      <th>name</th>\n",
       "      <th>price</th>\n",
       "      <th>score</th>\n",
       "      <th>dis</th>\n",
       "      <th>Time</th>\n",
       "      <th>hotel_count</th>\n",
       "    </tr>\n",
       "  </thead>\n",
       "  <tbody>\n",
       "    <tr>\n",
       "      <th>0</th>\n",
       "      <td>Courtyard Austin Downtown/Convention Center</td>\n",
       "      <td>1414.0</td>\n",
       "      <td>8.2</td>\n",
       "      <td>0.2</td>\n",
       "      <td>20231.csv</td>\n",
       "      <td>3</td>\n",
       "    </tr>\n",
       "    <tr>\n",
       "      <th>1</th>\n",
       "      <td>The LINE Austin</td>\n",
       "      <td>1894.0</td>\n",
       "      <td>8.2</td>\n",
       "      <td>0.3</td>\n",
       "      <td>20231.csv</td>\n",
       "      <td>3</td>\n",
       "    </tr>\n",
       "    <tr>\n",
       "      <th>2</th>\n",
       "      <td>Sentral East Austin 1630</td>\n",
       "      <td>840.0</td>\n",
       "      <td>8.1</td>\n",
       "      <td>1.1</td>\n",
       "      <td>20231.csv</td>\n",
       "      <td>3</td>\n",
       "    </tr>\n",
       "    <tr>\n",
       "      <th>3</th>\n",
       "      <td>Sentral East Austin 1614</td>\n",
       "      <td>1000.0</td>\n",
       "      <td>9.1</td>\n",
       "      <td>1.1</td>\n",
       "      <td>20231.csv</td>\n",
       "      <td>3</td>\n",
       "    </tr>\n",
       "    <tr>\n",
       "      <th>4</th>\n",
       "      <td>Aiden by Best Western @ Austin City Hotel</td>\n",
       "      <td>955.0</td>\n",
       "      <td>8.2</td>\n",
       "      <td>2.2</td>\n",
       "      <td>20231.csv</td>\n",
       "      <td>3</td>\n",
       "    </tr>\n",
       "    <tr>\n",
       "      <th>...</th>\n",
       "      <td>...</td>\n",
       "      <td>...</td>\n",
       "      <td>...</td>\n",
       "      <td>...</td>\n",
       "      <td>...</td>\n",
       "      <td>...</td>\n",
       "    </tr>\n",
       "    <tr>\n",
       "      <th>525</th>\n",
       "      <td>Courtyard Austin by Marriott Northwest/Lakeline</td>\n",
       "      <td>659.0</td>\n",
       "      <td>8.7</td>\n",
       "      <td>14.2</td>\n",
       "      <td>202212.csv</td>\n",
       "      <td>2</td>\n",
       "    </tr>\n",
       "    <tr>\n",
       "      <th>526</th>\n",
       "      <td>Downtown, Convention Center, Capitol, Zilker P...</td>\n",
       "      <td>3895.0</td>\n",
       "      <td>8.3</td>\n",
       "      <td>1.9</td>\n",
       "      <td>202212.csv</td>\n",
       "      <td>3</td>\n",
       "    </tr>\n",
       "    <tr>\n",
       "      <th>527</th>\n",
       "      <td>Hotel Saint Cecilia</td>\n",
       "      <td>2749.0</td>\n",
       "      <td>9.0</td>\n",
       "      <td>1.1</td>\n",
       "      <td>202212.csv</td>\n",
       "      <td>1</td>\n",
       "    </tr>\n",
       "    <tr>\n",
       "      <th>528</th>\n",
       "      <td>Natiivo Austin VIII</td>\n",
       "      <td>1437.0</td>\n",
       "      <td>10.0</td>\n",
       "      <td>0.8</td>\n",
       "      <td>202212.csv</td>\n",
       "      <td>3</td>\n",
       "    </tr>\n",
       "    <tr>\n",
       "      <th>529</th>\n",
       "      <td>Motel 6-Austin, TX - South - Airport</td>\n",
       "      <td>644.0</td>\n",
       "      <td>4.7</td>\n",
       "      <td>2.7</td>\n",
       "      <td>202212.csv</td>\n",
       "      <td>2</td>\n",
       "    </tr>\n",
       "  </tbody>\n",
       "</table>\n",
       "<p>530 rows × 6 columns</p>\n",
       "</div>"
      ],
      "text/plain": [
       "                                                  name   price  score   dis  \\\n",
       "0          Courtyard Austin Downtown/Convention Center  1414.0    8.2   0.2   \n",
       "1                                      The LINE Austin  1894.0    8.2   0.3   \n",
       "2                             Sentral East Austin 1630   840.0    8.1   1.1   \n",
       "3                             Sentral East Austin 1614  1000.0    9.1   1.1   \n",
       "4            Aiden by Best Western @ Austin City Hotel   955.0    8.2   2.2   \n",
       "..                                                 ...     ...    ...   ...   \n",
       "525    Courtyard Austin by Marriott Northwest/Lakeline   659.0    8.7  14.2   \n",
       "526  Downtown, Convention Center, Capitol, Zilker P...  3895.0    8.3   1.9   \n",
       "527                                Hotel Saint Cecilia  2749.0    9.0   1.1   \n",
       "528                                Natiivo Austin VIII  1437.0   10.0   0.8   \n",
       "529               Motel 6-Austin, TX - South - Airport   644.0    4.7   2.7   \n",
       "\n",
       "           Time  hotel_count  \n",
       "0     20231.csv            3  \n",
       "1     20231.csv            3  \n",
       "2     20231.csv            3  \n",
       "3     20231.csv            3  \n",
       "4     20231.csv            3  \n",
       "..          ...          ...  \n",
       "525  202212.csv            2  \n",
       "526  202212.csv            3  \n",
       "527  202212.csv            1  \n",
       "528  202212.csv            3  \n",
       "529  202212.csv            2  \n",
       "\n",
       "[530 rows x 6 columns]"
      ]
     },
     "execution_count": 30,
     "metadata": {},
     "output_type": "execute_result"
    }
   ],
   "source": [
    "df"
   ]
  },
  {
   "cell_type": "code",
   "execution_count": null,
   "metadata": {},
   "outputs": [],
   "source": [
    "def cal_holiday(row):\n",
    "    if row['Time'] == '20231.csv':\n",
    "        return 0\n",
    "    else:\n",
    "        return 1"
   ]
  },
  {
   "cell_type": "code",
   "execution_count": null,
   "metadata": {},
   "outputs": [],
   "source": [
    "df['Holiday'] = df.apply(cal_holiday, axis=1)"
   ]
  },
  {
   "cell_type": "code",
   "execution_count": null,
   "metadata": {},
   "outputs": [
    {
     "data": {
      "text/html": [
       "<div>\n",
       "<style scoped>\n",
       "    .dataframe tbody tr th:only-of-type {\n",
       "        vertical-align: middle;\n",
       "    }\n",
       "\n",
       "    .dataframe tbody tr th {\n",
       "        vertical-align: top;\n",
       "    }\n",
       "\n",
       "    .dataframe thead th {\n",
       "        text-align: right;\n",
       "    }\n",
       "</style>\n",
       "<table border=\"1\" class=\"dataframe\">\n",
       "  <thead>\n",
       "    <tr style=\"text-align: right;\">\n",
       "      <th></th>\n",
       "      <th>name</th>\n",
       "      <th>price</th>\n",
       "      <th>score</th>\n",
       "      <th>dis</th>\n",
       "      <th>Time</th>\n",
       "      <th>hotel_count</th>\n",
       "      <th>Holiday</th>\n",
       "    </tr>\n",
       "  </thead>\n",
       "  <tbody>\n",
       "    <tr>\n",
       "      <th>0</th>\n",
       "      <td>Courtyard Austin Downtown/Convention Center</td>\n",
       "      <td>1414.0</td>\n",
       "      <td>8.2</td>\n",
       "      <td>0.2</td>\n",
       "      <td>20231.csv</td>\n",
       "      <td>3</td>\n",
       "      <td>0</td>\n",
       "    </tr>\n",
       "    <tr>\n",
       "      <th>1</th>\n",
       "      <td>The LINE Austin</td>\n",
       "      <td>1894.0</td>\n",
       "      <td>8.2</td>\n",
       "      <td>0.3</td>\n",
       "      <td>20231.csv</td>\n",
       "      <td>3</td>\n",
       "      <td>0</td>\n",
       "    </tr>\n",
       "    <tr>\n",
       "      <th>2</th>\n",
       "      <td>Sentral East Austin 1630</td>\n",
       "      <td>840.0</td>\n",
       "      <td>8.1</td>\n",
       "      <td>1.1</td>\n",
       "      <td>20231.csv</td>\n",
       "      <td>3</td>\n",
       "      <td>0</td>\n",
       "    </tr>\n",
       "    <tr>\n",
       "      <th>3</th>\n",
       "      <td>Sentral East Austin 1614</td>\n",
       "      <td>1000.0</td>\n",
       "      <td>9.1</td>\n",
       "      <td>1.1</td>\n",
       "      <td>20231.csv</td>\n",
       "      <td>3</td>\n",
       "      <td>0</td>\n",
       "    </tr>\n",
       "    <tr>\n",
       "      <th>4</th>\n",
       "      <td>Aiden by Best Western @ Austin City Hotel</td>\n",
       "      <td>955.0</td>\n",
       "      <td>8.2</td>\n",
       "      <td>2.2</td>\n",
       "      <td>20231.csv</td>\n",
       "      <td>3</td>\n",
       "      <td>0</td>\n",
       "    </tr>\n",
       "    <tr>\n",
       "      <th>...</th>\n",
       "      <td>...</td>\n",
       "      <td>...</td>\n",
       "      <td>...</td>\n",
       "      <td>...</td>\n",
       "      <td>...</td>\n",
       "      <td>...</td>\n",
       "      <td>...</td>\n",
       "    </tr>\n",
       "    <tr>\n",
       "      <th>525</th>\n",
       "      <td>Courtyard Austin by Marriott Northwest/Lakeline</td>\n",
       "      <td>659.0</td>\n",
       "      <td>8.7</td>\n",
       "      <td>14.2</td>\n",
       "      <td>202212.csv</td>\n",
       "      <td>2</td>\n",
       "      <td>1</td>\n",
       "    </tr>\n",
       "    <tr>\n",
       "      <th>526</th>\n",
       "      <td>Downtown, Convention Center, Capitol, Zilker P...</td>\n",
       "      <td>3895.0</td>\n",
       "      <td>8.3</td>\n",
       "      <td>1.9</td>\n",
       "      <td>202212.csv</td>\n",
       "      <td>3</td>\n",
       "      <td>1</td>\n",
       "    </tr>\n",
       "    <tr>\n",
       "      <th>527</th>\n",
       "      <td>Hotel Saint Cecilia</td>\n",
       "      <td>2749.0</td>\n",
       "      <td>9.0</td>\n",
       "      <td>1.1</td>\n",
       "      <td>202212.csv</td>\n",
       "      <td>1</td>\n",
       "      <td>1</td>\n",
       "    </tr>\n",
       "    <tr>\n",
       "      <th>528</th>\n",
       "      <td>Natiivo Austin VIII</td>\n",
       "      <td>1437.0</td>\n",
       "      <td>10.0</td>\n",
       "      <td>0.8</td>\n",
       "      <td>202212.csv</td>\n",
       "      <td>3</td>\n",
       "      <td>1</td>\n",
       "    </tr>\n",
       "    <tr>\n",
       "      <th>529</th>\n",
       "      <td>Motel 6-Austin, TX - South - Airport</td>\n",
       "      <td>644.0</td>\n",
       "      <td>4.7</td>\n",
       "      <td>2.7</td>\n",
       "      <td>202212.csv</td>\n",
       "      <td>2</td>\n",
       "      <td>1</td>\n",
       "    </tr>\n",
       "  </tbody>\n",
       "</table>\n",
       "<p>530 rows × 7 columns</p>\n",
       "</div>"
      ],
      "text/plain": [
       "                                                  name   price  score   dis  \\\n",
       "0          Courtyard Austin Downtown/Convention Center  1414.0    8.2   0.2   \n",
       "1                                      The LINE Austin  1894.0    8.2   0.3   \n",
       "2                             Sentral East Austin 1630   840.0    8.1   1.1   \n",
       "3                             Sentral East Austin 1614  1000.0    9.1   1.1   \n",
       "4            Aiden by Best Western @ Austin City Hotel   955.0    8.2   2.2   \n",
       "..                                                 ...     ...    ...   ...   \n",
       "525    Courtyard Austin by Marriott Northwest/Lakeline   659.0    8.7  14.2   \n",
       "526  Downtown, Convention Center, Capitol, Zilker P...  3895.0    8.3   1.9   \n",
       "527                                Hotel Saint Cecilia  2749.0    9.0   1.1   \n",
       "528                                Natiivo Austin VIII  1437.0   10.0   0.8   \n",
       "529               Motel 6-Austin, TX - South - Airport   644.0    4.7   2.7   \n",
       "\n",
       "           Time  hotel_count  Holiday  \n",
       "0     20231.csv            3        0  \n",
       "1     20231.csv            3        0  \n",
       "2     20231.csv            3        0  \n",
       "3     20231.csv            3        0  \n",
       "4     20231.csv            3        0  \n",
       "..          ...          ...      ...  \n",
       "525  202212.csv            2        1  \n",
       "526  202212.csv            3        1  \n",
       "527  202212.csv            1        1  \n",
       "528  202212.csv            3        1  \n",
       "529  202212.csv            2        1  \n",
       "\n",
       "[530 rows x 7 columns]"
      ]
     },
     "execution_count": 33,
     "metadata": {},
     "output_type": "execute_result"
    }
   ],
   "source": [
    "df"
   ]
  },
  {
   "cell_type": "code",
   "execution_count": null,
   "metadata": {},
   "outputs": [],
   "source": [
    "df['price'] = df['price'].astype(int)"
   ]
  },
  {
   "cell_type": "code",
   "execution_count": 36,
   "metadata": {},
   "outputs": [
    {
     "name": "stdout",
     "output_type": "stream",
     "text": [
      "<class 'pandas.core.frame.DataFrame'>\n",
      "RangeIndex: 530 entries, 0 to 529\n",
      "Data columns (total 7 columns):\n",
      " #   Column       Non-Null Count  Dtype  \n",
      "---  ------       --------------  -----  \n",
      " 0   name         530 non-null    object \n",
      " 1   price        530 non-null    int64  \n",
      " 2   score        530 non-null    float64\n",
      " 3   dis          530 non-null    float64\n",
      " 4   Time         530 non-null    object \n",
      " 5   hotel_count  530 non-null    int64  \n",
      " 6   Holiday      530 non-null    int64  \n",
      "dtypes: float64(2), int64(3), object(2)\n",
      "memory usage: 29.1+ KB\n"
     ]
    }
   ],
   "source": [
    "df.info()"
   ]
  },
  {
   "cell_type": "code",
   "execution_count": 37,
   "metadata": {},
   "outputs": [
    {
     "data": {
      "text/plain": [
       "Index(['name', 'price', 'score', 'dis', 'Time', 'hotel_count', 'Holiday'], dtype='object')"
      ]
     },
     "execution_count": 37,
     "metadata": {},
     "output_type": "execute_result"
    }
   ],
   "source": [
    "df.columns"
   ]
  }
 ],
 "metadata": {
  "kernelspec": {
   "display_name": "Python 3 (ipykernel)",
   "language": "python",
   "name": "python3"
  },
  "language_info": {
   "codemirror_mode": {
    "name": "ipython",
    "version": 3
   },
   "file_extension": ".py",
   "mimetype": "text/x-python",
   "name": "python",
   "nbconvert_exporter": "python",
   "pygments_lexer": "ipython3",
   "version": "3.9.12"
  }
 },
 "nbformat": 4,
 "nbformat_minor": 4
}
